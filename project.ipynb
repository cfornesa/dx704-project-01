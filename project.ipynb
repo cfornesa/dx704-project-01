{
  "cells": [
    {
      "cell_type": "markdown",
      "metadata": {
        "id": "DDELa7o5UXrY"
      },
      "source": [
        "# DX 704 Week 1 Project\n",
        "\n",
        "This week's project will build a portfolio risk and return model, and make investing recommendations for hypothetical clients.\n",
        "You will collect historical data, estimate returns and risks, construct efficient frontier portfolios, and sanity check the certainty of the maximum return portfolio."
      ]
    },
    {
      "cell_type": "markdown",
      "metadata": {
        "id": "P6SxppNu8p8k"
      },
      "source": [
        "The full project description and a template notebook are available on GitHub at the following link.\n",
        "\n",
        "https://github.com/bu-cds-dx704/dx704-project-01\n"
      ]
    },
    {
      "cell_type": "markdown",
      "metadata": {
        "id": "GmIaQcdCwObV"
      },
      "source": [
        "Feel free to use optimization tools or libraries (such as CVXOPT or scipy.optimize) to perform any calculations required for this mini project."
      ]
    },
    {
      "cell_type": "markdown",
      "metadata": {},
      "source": [
        "### Example Code\n",
        "\n",
        "You may find it helpful to refer to these GitHub repositories of Jupyter notebooks for example code.\n",
        "\n",
        "* https://github.com/bu-cds-omds/dx601-examples\n",
        "* https://github.com/bu-cds-omds/dx602-examples\n",
        "* https://github.com/bu-cds-omds/dx603-examples\n",
        "* https://github.com/bu-cds-omds/dx704-examples\n",
        "\n",
        "Any calculations demonstrated in code examples or videos may be found in these notebooks, and you are allowed to copy this example code in your homework answers."
      ]
    },
    {
      "cell_type": "markdown",
      "metadata": {
        "id": "pv3PslO0V5Lm"
      },
      "source": [
        "## Part 1: Collect Data\n",
        "\n",
        "Collect historical monthly price data for the last 24 months covering 6 different stocks.\n",
        "The data should cover 24 consecutive months including the last month that ended before this week's material was released on Blackboard.\n",
        "To be clear, if a month ends between the Blackboard release and submitting your project, you do not need to add that month.\n",
        "\n",
        "The six different stocks must include AAPL, SPY and TSLA.\n",
        "At least one of the remaining 3 tickers must start with the same letter as your last name (e.g. professor Considine could use COIN).\n",
        "This is to encourage diversity in what stocks you analyze; if you discuss this project with classmates, please make sure that you pick different tickers to differentiate your work.\n",
        "Do not pick stocks with fewer than 24 consecutive months of price data."
      ]
    },
    {
      "cell_type": "code",
      "execution_count": 23,
      "metadata": {
        "id": "6pL-ppubxfvC"
      },
      "outputs": [
        {
          "data": {
            "text/html": [
              "<div>\n",
              "<style scoped>\n",
              "    .dataframe tbody tr th:only-of-type {\n",
              "        vertical-align: middle;\n",
              "    }\n",
              "\n",
              "    .dataframe tbody tr th {\n",
              "        vertical-align: top;\n",
              "    }\n",
              "\n",
              "    .dataframe thead th {\n",
              "        text-align: right;\n",
              "    }\n",
              "</style>\n",
              "<table border=\"1\" class=\"dataframe\">\n",
              "  <thead>\n",
              "    <tr style=\"text-align: right;\">\n",
              "      <th></th>\n",
              "      <th>AAPL</th>\n",
              "      <th>SPY</th>\n",
              "      <th>TSLA</th>\n",
              "      <th>FNMA</th>\n",
              "      <th>FIGR.PVT</th>\n",
              "      <th>F</th>\n",
              "    </tr>\n",
              "    <tr>\n",
              "      <th>Date</th>\n",
              "      <th></th>\n",
              "      <th></th>\n",
              "      <th></th>\n",
              "      <th></th>\n",
              "      <th></th>\n",
              "      <th></th>\n",
              "    </tr>\n",
              "  </thead>\n",
              "  <tbody>\n",
              "    <tr>\n",
              "      <th>2023-09-30</th>\n",
              "      <td>169.549271</td>\n",
              "      <td>417.865692</td>\n",
              "      <td>250.220001</td>\n",
              "      <td>0.62</td>\n",
              "      <td>3.000000</td>\n",
              "      <td>10.763963</td>\n",
              "    </tr>\n",
              "    <tr>\n",
              "      <th>2023-10-31</th>\n",
              "      <td>169.113571</td>\n",
              "      <td>408.794342</td>\n",
              "      <td>200.839996</td>\n",
              "      <td>0.75</td>\n",
              "      <td>3.000000</td>\n",
              "      <td>8.581726</td>\n",
              "    </tr>\n",
              "    <tr>\n",
              "      <th>2023-11-30</th>\n",
              "      <td>188.355331</td>\n",
              "      <td>446.135223</td>\n",
              "      <td>240.080002</td>\n",
              "      <td>0.74</td>\n",
              "      <td>3.000000</td>\n",
              "      <td>9.030617</td>\n",
              "    </tr>\n",
              "    <tr>\n",
              "      <th>2023-12-31</th>\n",
              "      <td>190.913666</td>\n",
              "      <td>466.503662</td>\n",
              "      <td>248.479996</td>\n",
              "      <td>1.07</td>\n",
              "      <td>3.000000</td>\n",
              "      <td>10.729358</td>\n",
              "    </tr>\n",
              "    <tr>\n",
              "      <th>2024-01-31</th>\n",
              "      <td>182.851898</td>\n",
              "      <td>473.933411</td>\n",
              "      <td>187.289993</td>\n",
              "      <td>1.26</td>\n",
              "      <td>3.000000</td>\n",
              "      <td>10.315676</td>\n",
              "    </tr>\n",
              "    <tr>\n",
              "      <th>2024-02-29</th>\n",
              "      <td>179.461273</td>\n",
              "      <td>498.666534</td>\n",
              "      <td>201.880005</td>\n",
              "      <td>1.27</td>\n",
              "      <td>13.220000</td>\n",
              "      <td>11.244848</td>\n",
              "    </tr>\n",
              "    <tr>\n",
              "      <th>2024-03-31</th>\n",
              "      <td>170.257355</td>\n",
              "      <td>514.973816</td>\n",
              "      <td>175.789993</td>\n",
              "      <td>1.57</td>\n",
              "      <td>13.220000</td>\n",
              "      <td>12.004147</td>\n",
              "    </tr>\n",
              "    <tr>\n",
              "      <th>2024-04-30</th>\n",
              "      <td>169.115555</td>\n",
              "      <td>494.210297</td>\n",
              "      <td>183.279999</td>\n",
              "      <td>1.47</td>\n",
              "      <td>13.220000</td>\n",
              "      <td>10.982711</td>\n",
              "    </tr>\n",
              "    <tr>\n",
              "      <th>2024-05-31</th>\n",
              "      <td>191.138153</td>\n",
              "      <td>519.207336</td>\n",
              "      <td>178.080002</td>\n",
              "      <td>1.55</td>\n",
              "      <td>13.220000</td>\n",
              "      <td>11.097805</td>\n",
              "    </tr>\n",
              "    <tr>\n",
              "      <th>2024-06-30</th>\n",
              "      <td>209.401917</td>\n",
              "      <td>537.525024</td>\n",
              "      <td>197.880005</td>\n",
              "      <td>1.43</td>\n",
              "      <td>13.220000</td>\n",
              "      <td>11.472918</td>\n",
              "    </tr>\n",
              "    <tr>\n",
              "      <th>2024-07-31</th>\n",
              "      <td>220.795654</td>\n",
              "      <td>544.033936</td>\n",
              "      <td>232.070007</td>\n",
              "      <td>1.28</td>\n",
              "      <td>13.250000</td>\n",
              "      <td>9.899280</td>\n",
              "    </tr>\n",
              "    <tr>\n",
              "      <th>2024-08-31</th>\n",
              "      <td>227.939178</td>\n",
              "      <td>556.745667</td>\n",
              "      <td>214.110001</td>\n",
              "      <td>1.20</td>\n",
              "      <td>13.250000</td>\n",
              "      <td>10.397261</td>\n",
              "    </tr>\n",
              "    <tr>\n",
              "      <th>2024-09-30</th>\n",
              "      <td>231.920654</td>\n",
              "      <td>568.439880</td>\n",
              "      <td>261.630005</td>\n",
              "      <td>1.18</td>\n",
              "      <td>13.270000</td>\n",
              "      <td>9.811893</td>\n",
              "    </tr>\n",
              "    <tr>\n",
              "      <th>2024-10-31</th>\n",
              "      <td>224.863480</td>\n",
              "      <td>563.367432</td>\n",
              "      <td>249.850006</td>\n",
              "      <td>1.39</td>\n",
              "      <td>13.270000</td>\n",
              "      <td>9.561021</td>\n",
              "    </tr>\n",
              "    <tr>\n",
              "      <th>2024-11-30</th>\n",
              "      <td>236.490494</td>\n",
              "      <td>596.962952</td>\n",
              "      <td>345.160004</td>\n",
              "      <td>3.13</td>\n",
              "      <td>13.950000</td>\n",
              "      <td>10.482022</td>\n",
              "    </tr>\n",
              "    <tr>\n",
              "      <th>2024-12-31</th>\n",
              "      <td>249.534180</td>\n",
              "      <td>582.599915</td>\n",
              "      <td>403.839996</td>\n",
              "      <td>3.28</td>\n",
              "      <td>15.640000</td>\n",
              "      <td>9.323630</td>\n",
              "    </tr>\n",
              "    <tr>\n",
              "      <th>2025-01-31</th>\n",
              "      <td>235.165192</td>\n",
              "      <td>598.246460</td>\n",
              "      <td>404.600006</td>\n",
              "      <td>5.49</td>\n",
              "      <td>17.100000</td>\n",
              "      <td>9.493152</td>\n",
              "    </tr>\n",
              "    <tr>\n",
              "      <th>2025-02-28</th>\n",
              "      <td>241.249481</td>\n",
              "      <td>590.651794</td>\n",
              "      <td>292.980011</td>\n",
              "      <td>6.40</td>\n",
              "      <td>190.240005</td>\n",
              "      <td>9.287930</td>\n",
              "    </tr>\n",
              "    <tr>\n",
              "      <th>2025-03-31</th>\n",
              "      <td>221.587616</td>\n",
              "      <td>557.741150</td>\n",
              "      <td>259.160004</td>\n",
              "      <td>6.32</td>\n",
              "      <td>194.000000</td>\n",
              "      <td>9.754758</td>\n",
              "    </tr>\n",
              "    <tr>\n",
              "      <th>2025-04-30</th>\n",
              "      <td>211.981125</td>\n",
              "      <td>552.905457</td>\n",
              "      <td>282.160004</td>\n",
              "      <td>6.31</td>\n",
              "      <td>194.000000</td>\n",
              "      <td>9.735307</td>\n",
              "    </tr>\n",
              "    <tr>\n",
              "      <th>2025-05-31</th>\n",
              "      <td>200.622314</td>\n",
              "      <td>587.652771</td>\n",
              "      <td>346.459991</td>\n",
              "      <td>10.53</td>\n",
              "      <td>194.000000</td>\n",
              "      <td>10.242455</td>\n",
              "    </tr>\n",
              "    <tr>\n",
              "      <th>2025-06-30</th>\n",
              "      <td>204.937408</td>\n",
              "      <td>617.849976</td>\n",
              "      <td>317.660004</td>\n",
              "      <td>9.54</td>\n",
              "      <td>174.000000</td>\n",
              "      <td>10.706228</td>\n",
              "    </tr>\n",
              "    <tr>\n",
              "      <th>2025-07-31</th>\n",
              "      <td>207.334702</td>\n",
              "      <td>632.080017</td>\n",
              "      <td>308.269989</td>\n",
              "      <td>8.02</td>\n",
              "      <td>174.000000</td>\n",
              "      <td>10.923312</td>\n",
              "    </tr>\n",
              "    <tr>\n",
              "      <th>2025-08-31</th>\n",
              "      <td>232.139999</td>\n",
              "      <td>645.049988</td>\n",
              "      <td>333.869995</td>\n",
              "      <td>11.29</td>\n",
              "      <td>174.000000</td>\n",
              "      <td>11.770000</td>\n",
              "    </tr>\n",
              "    <tr>\n",
              "      <th>2025-09-30</th>\n",
              "      <td>238.470001</td>\n",
              "      <td>643.739990</td>\n",
              "      <td>334.089996</td>\n",
              "      <td>11.93</td>\n",
              "      <td>174.000000</td>\n",
              "      <td>11.620000</td>\n",
              "    </tr>\n",
              "  </tbody>\n",
              "</table>\n",
              "</div>"
            ],
            "text/plain": [
              "                  AAPL         SPY        TSLA   FNMA    FIGR.PVT          F\n",
              "Date                                                                        \n",
              "2023-09-30  169.549271  417.865692  250.220001   0.62    3.000000  10.763963\n",
              "2023-10-31  169.113571  408.794342  200.839996   0.75    3.000000   8.581726\n",
              "2023-11-30  188.355331  446.135223  240.080002   0.74    3.000000   9.030617\n",
              "2023-12-31  190.913666  466.503662  248.479996   1.07    3.000000  10.729358\n",
              "2024-01-31  182.851898  473.933411  187.289993   1.26    3.000000  10.315676\n",
              "2024-02-29  179.461273  498.666534  201.880005   1.27   13.220000  11.244848\n",
              "2024-03-31  170.257355  514.973816  175.789993   1.57   13.220000  12.004147\n",
              "2024-04-30  169.115555  494.210297  183.279999   1.47   13.220000  10.982711\n",
              "2024-05-31  191.138153  519.207336  178.080002   1.55   13.220000  11.097805\n",
              "2024-06-30  209.401917  537.525024  197.880005   1.43   13.220000  11.472918\n",
              "2024-07-31  220.795654  544.033936  232.070007   1.28   13.250000   9.899280\n",
              "2024-08-31  227.939178  556.745667  214.110001   1.20   13.250000  10.397261\n",
              "2024-09-30  231.920654  568.439880  261.630005   1.18   13.270000   9.811893\n",
              "2024-10-31  224.863480  563.367432  249.850006   1.39   13.270000   9.561021\n",
              "2024-11-30  236.490494  596.962952  345.160004   3.13   13.950000  10.482022\n",
              "2024-12-31  249.534180  582.599915  403.839996   3.28   15.640000   9.323630\n",
              "2025-01-31  235.165192  598.246460  404.600006   5.49   17.100000   9.493152\n",
              "2025-02-28  241.249481  590.651794  292.980011   6.40  190.240005   9.287930\n",
              "2025-03-31  221.587616  557.741150  259.160004   6.32  194.000000   9.754758\n",
              "2025-04-30  211.981125  552.905457  282.160004   6.31  194.000000   9.735307\n",
              "2025-05-31  200.622314  587.652771  346.459991  10.53  194.000000  10.242455\n",
              "2025-06-30  204.937408  617.849976  317.660004   9.54  174.000000  10.706228\n",
              "2025-07-31  207.334702  632.080017  308.269989   8.02  174.000000  10.923312\n",
              "2025-08-31  232.139999  645.049988  333.869995  11.29  174.000000  11.770000\n",
              "2025-09-30  238.470001  643.739990  334.089996  11.93  174.000000  11.620000"
            ]
          },
          "execution_count": 23,
          "metadata": {},
          "output_type": "execute_result"
        }
      ],
      "source": [
        "# YOUR CHANGES HERE\n",
        "\n",
        "import cvxpy as cp\n",
        "import matplotlib.pyplot as plt\n",
        "import numpy as np\n",
        "import pandas as pd\n",
        "\n",
        "import yfinance as yf\n",
        "\n",
        "tickers = [\"AAPL\", \"SPY\", \"TSLA\", \"FNMA\", \"FIGR.PVT\", \"F\"]\n",
        "\n",
        "historical_prices = None\n",
        "\n",
        "for t in tickers:\n",
        "    ticker = yf.Ticker(t)\n",
        "    history =  ticker.history(period=\"2y\")\n",
        "\n",
        "    monthly_prices = history['Close'].resample('ME').last()\n",
        "\n",
        "    if historical_prices is None:\n",
        "        historical_prices = monthly_prices\n",
        "    else:\n",
        "        historical_prices = pd.concat([historical_prices, monthly_prices], axis=1)\n",
        "\n",
        "historical_prices.columns = tickers\n",
        "historical_prices.index = pd.to_datetime(historical_prices.index).strftime(\"%Y-%m-%d\")\n",
        "\n",
        "historical_prices"
      ]
    },
    {
      "cell_type": "markdown",
      "metadata": {
        "id": "1uH9oDQ1rEQT"
      },
      "source": [
        "Save the data as a TSV file named \"historical_prices.tsv\" and include a header row with the column names \"date\" and the 6 stock ticker symbols.\n",
        "The date should be the last trading day of the month, so it may not be the last day of the month.\n",
        "For example, the last trading day of November 2024 was 2024-11-29.\n",
        "The remaining columns should contain the adjusted closing prices of the corresponding stock tickers on that day.\n"
      ]
    },
    {
      "cell_type": "code",
      "execution_count": 24,
      "metadata": {
        "id": "mHbwKHOhtQ3E"
      },
      "outputs": [],
      "source": [
        "# YOUR CHANGES HERE\n",
        "\n",
        "# Save historical_prices as a TSV file\n",
        "historical_prices_tsv = historical_prices.reset_index().rename(columns={'Date': 'date'})\n",
        "historical_prices_tsv.to_csv('historical_prices.tsv', sep=\"\\t\")"
      ]
    },
    {
      "cell_type": "markdown",
      "metadata": {
        "id": "2hp0yuXPtT9V"
      },
      "source": [
        "Submit \"historical_prices.tsv\" in Gradescope."
      ]
    },
    {
      "cell_type": "markdown",
      "metadata": {
        "id": "7XdNVWWirUd5"
      },
      "source": [
        "## Part 2: Calculate Historical Asset Returns\n",
        "\n",
        "Calculate the historical asset returns based on the price data that you previously collected."
      ]
    },
    {
      "cell_type": "code",
      "execution_count": 37,
      "metadata": {
        "id": "aL-kVua2xex-"
      },
      "outputs": [
        {
          "data": {
            "text/html": [
              "<div>\n",
              "<style scoped>\n",
              "    .dataframe tbody tr th:only-of-type {\n",
              "        vertical-align: middle;\n",
              "    }\n",
              "\n",
              "    .dataframe tbody tr th {\n",
              "        vertical-align: top;\n",
              "    }\n",
              "\n",
              "    .dataframe thead th {\n",
              "        text-align: right;\n",
              "    }\n",
              "</style>\n",
              "<table border=\"1\" class=\"dataframe\">\n",
              "  <thead>\n",
              "    <tr style=\"text-align: right;\">\n",
              "      <th></th>\n",
              "      <th>AAPL</th>\n",
              "      <th>SPY</th>\n",
              "      <th>TSLA</th>\n",
              "      <th>FNMA</th>\n",
              "      <th>FIGR.PVT</th>\n",
              "      <th>F</th>\n",
              "    </tr>\n",
              "    <tr>\n",
              "      <th>Date</th>\n",
              "      <th></th>\n",
              "      <th></th>\n",
              "      <th></th>\n",
              "      <th></th>\n",
              "      <th></th>\n",
              "      <th></th>\n",
              "    </tr>\n",
              "  </thead>\n",
              "  <tbody>\n",
              "    <tr>\n",
              "      <th>2023-10-31</th>\n",
              "      <td>-0.002570</td>\n",
              "      <td>-0.021709</td>\n",
              "      <td>-0.197346</td>\n",
              "      <td>0.209677</td>\n",
              "      <td>0.000000</td>\n",
              "      <td>-0.202735</td>\n",
              "    </tr>\n",
              "    <tr>\n",
              "      <th>2023-11-30</th>\n",
              "      <td>0.113780</td>\n",
              "      <td>0.091344</td>\n",
              "      <td>0.195379</td>\n",
              "      <td>-0.013333</td>\n",
              "      <td>0.000000</td>\n",
              "      <td>0.052308</td>\n",
              "    </tr>\n",
              "    <tr>\n",
              "      <th>2023-12-31</th>\n",
              "      <td>0.013582</td>\n",
              "      <td>0.045655</td>\n",
              "      <td>0.034988</td>\n",
              "      <td>0.445946</td>\n",
              "      <td>0.000000</td>\n",
              "      <td>0.188109</td>\n",
              "    </tr>\n",
              "    <tr>\n",
              "      <th>2024-01-31</th>\n",
              "      <td>-0.042227</td>\n",
              "      <td>0.015926</td>\n",
              "      <td>-0.246257</td>\n",
              "      <td>0.177570</td>\n",
              "      <td>0.000000</td>\n",
              "      <td>-0.038556</td>\n",
              "    </tr>\n",
              "    <tr>\n",
              "      <th>2024-02-29</th>\n",
              "      <td>-0.018543</td>\n",
              "      <td>0.052187</td>\n",
              "      <td>0.077901</td>\n",
              "      <td>0.007937</td>\n",
              "      <td>3.406667</td>\n",
              "      <td>0.090074</td>\n",
              "    </tr>\n",
              "    <tr>\n",
              "      <th>2024-03-31</th>\n",
              "      <td>-0.051286</td>\n",
              "      <td>0.032702</td>\n",
              "      <td>-0.129235</td>\n",
              "      <td>0.236221</td>\n",
              "      <td>0.000000</td>\n",
              "      <td>0.067524</td>\n",
              "    </tr>\n",
              "    <tr>\n",
              "      <th>2024-04-30</th>\n",
              "      <td>-0.006706</td>\n",
              "      <td>-0.040320</td>\n",
              "      <td>0.042608</td>\n",
              "      <td>-0.063694</td>\n",
              "      <td>0.000000</td>\n",
              "      <td>-0.085090</td>\n",
              "    </tr>\n",
              "    <tr>\n",
              "      <th>2024-05-31</th>\n",
              "      <td>0.130222</td>\n",
              "      <td>0.050580</td>\n",
              "      <td>-0.028372</td>\n",
              "      <td>0.054422</td>\n",
              "      <td>0.000000</td>\n",
              "      <td>0.010480</td>\n",
              "    </tr>\n",
              "    <tr>\n",
              "      <th>2024-06-30</th>\n",
              "      <td>0.095553</td>\n",
              "      <td>0.035280</td>\n",
              "      <td>0.111186</td>\n",
              "      <td>-0.077419</td>\n",
              "      <td>0.000000</td>\n",
              "      <td>0.033801</td>\n",
              "    </tr>\n",
              "    <tr>\n",
              "      <th>2024-07-31</th>\n",
              "      <td>0.054411</td>\n",
              "      <td>0.012109</td>\n",
              "      <td>0.172781</td>\n",
              "      <td>-0.104895</td>\n",
              "      <td>0.002269</td>\n",
              "      <td>-0.137161</td>\n",
              "    </tr>\n",
              "    <tr>\n",
              "      <th>2024-08-31</th>\n",
              "      <td>0.032354</td>\n",
              "      <td>0.023366</td>\n",
              "      <td>-0.077390</td>\n",
              "      <td>-0.062500</td>\n",
              "      <td>0.000000</td>\n",
              "      <td>0.050305</td>\n",
              "    </tr>\n",
              "    <tr>\n",
              "      <th>2024-09-30</th>\n",
              "      <td>0.017467</td>\n",
              "      <td>0.021005</td>\n",
              "      <td>0.221942</td>\n",
              "      <td>-0.016667</td>\n",
              "      <td>0.001509</td>\n",
              "      <td>-0.056300</td>\n",
              "    </tr>\n",
              "    <tr>\n",
              "      <th>2024-10-31</th>\n",
              "      <td>-0.030429</td>\n",
              "      <td>-0.008923</td>\n",
              "      <td>-0.045025</td>\n",
              "      <td>0.177966</td>\n",
              "      <td>0.000000</td>\n",
              "      <td>-0.025568</td>\n",
              "    </tr>\n",
              "    <tr>\n",
              "      <th>2024-11-30</th>\n",
              "      <td>0.051707</td>\n",
              "      <td>0.059633</td>\n",
              "      <td>0.381469</td>\n",
              "      <td>1.251799</td>\n",
              "      <td>0.051243</td>\n",
              "      <td>0.096329</td>\n",
              "    </tr>\n",
              "    <tr>\n",
              "      <th>2024-12-31</th>\n",
              "      <td>0.055155</td>\n",
              "      <td>-0.024060</td>\n",
              "      <td>0.170008</td>\n",
              "      <td>0.047923</td>\n",
              "      <td>0.121147</td>\n",
              "      <td>-0.110512</td>\n",
              "    </tr>\n",
              "    <tr>\n",
              "      <th>2025-01-31</th>\n",
              "      <td>-0.057583</td>\n",
              "      <td>0.026856</td>\n",
              "      <td>0.001882</td>\n",
              "      <td>0.673780</td>\n",
              "      <td>0.093350</td>\n",
              "      <td>0.018182</td>\n",
              "    </tr>\n",
              "    <tr>\n",
              "      <th>2025-02-28</th>\n",
              "      <td>0.025872</td>\n",
              "      <td>-0.012695</td>\n",
              "      <td>-0.275877</td>\n",
              "      <td>0.165756</td>\n",
              "      <td>10.125146</td>\n",
              "      <td>-0.021618</td>\n",
              "    </tr>\n",
              "    <tr>\n",
              "      <th>2025-03-31</th>\n",
              "      <td>-0.081500</td>\n",
              "      <td>-0.055719</td>\n",
              "      <td>-0.115435</td>\n",
              "      <td>-0.012500</td>\n",
              "      <td>0.019764</td>\n",
              "      <td>0.050262</td>\n",
              "    </tr>\n",
              "    <tr>\n",
              "      <th>2025-04-30</th>\n",
              "      <td>-0.043353</td>\n",
              "      <td>-0.008670</td>\n",
              "      <td>0.088748</td>\n",
              "      <td>-0.001582</td>\n",
              "      <td>0.000000</td>\n",
              "      <td>-0.001994</td>\n",
              "    </tr>\n",
              "    <tr>\n",
              "      <th>2025-05-31</th>\n",
              "      <td>-0.053584</td>\n",
              "      <td>0.062845</td>\n",
              "      <td>0.227885</td>\n",
              "      <td>0.668780</td>\n",
              "      <td>0.000000</td>\n",
              "      <td>0.052094</td>\n",
              "    </tr>\n",
              "    <tr>\n",
              "      <th>2025-06-30</th>\n",
              "      <td>0.021509</td>\n",
              "      <td>0.051386</td>\n",
              "      <td>-0.083126</td>\n",
              "      <td>-0.094017</td>\n",
              "      <td>-0.103093</td>\n",
              "      <td>0.045279</td>\n",
              "    </tr>\n",
              "    <tr>\n",
              "      <th>2025-07-31</th>\n",
              "      <td>0.011698</td>\n",
              "      <td>0.023032</td>\n",
              "      <td>-0.029560</td>\n",
              "      <td>-0.159329</td>\n",
              "      <td>0.000000</td>\n",
              "      <td>0.020276</td>\n",
              "    </tr>\n",
              "    <tr>\n",
              "      <th>2025-08-31</th>\n",
              "      <td>0.119639</td>\n",
              "      <td>0.020520</td>\n",
              "      <td>0.083044</td>\n",
              "      <td>0.407731</td>\n",
              "      <td>0.000000</td>\n",
              "      <td>0.077512</td>\n",
              "    </tr>\n",
              "    <tr>\n",
              "      <th>2025-09-30</th>\n",
              "      <td>0.027268</td>\n",
              "      <td>-0.002031</td>\n",
              "      <td>0.000659</td>\n",
              "      <td>0.056687</td>\n",
              "      <td>0.000000</td>\n",
              "      <td>-0.012744</td>\n",
              "    </tr>\n",
              "  </tbody>\n",
              "</table>\n",
              "</div>"
            ],
            "text/plain": [
              "                AAPL       SPY      TSLA      FNMA   FIGR.PVT         F\n",
              "Date                                                                   \n",
              "2023-10-31 -0.002570 -0.021709 -0.197346  0.209677   0.000000 -0.202735\n",
              "2023-11-30  0.113780  0.091344  0.195379 -0.013333   0.000000  0.052308\n",
              "2023-12-31  0.013582  0.045655  0.034988  0.445946   0.000000  0.188109\n",
              "2024-01-31 -0.042227  0.015926 -0.246257  0.177570   0.000000 -0.038556\n",
              "2024-02-29 -0.018543  0.052187  0.077901  0.007937   3.406667  0.090074\n",
              "2024-03-31 -0.051286  0.032702 -0.129235  0.236221   0.000000  0.067524\n",
              "2024-04-30 -0.006706 -0.040320  0.042608 -0.063694   0.000000 -0.085090\n",
              "2024-05-31  0.130222  0.050580 -0.028372  0.054422   0.000000  0.010480\n",
              "2024-06-30  0.095553  0.035280  0.111186 -0.077419   0.000000  0.033801\n",
              "2024-07-31  0.054411  0.012109  0.172781 -0.104895   0.002269 -0.137161\n",
              "2024-08-31  0.032354  0.023366 -0.077390 -0.062500   0.000000  0.050305\n",
              "2024-09-30  0.017467  0.021005  0.221942 -0.016667   0.001509 -0.056300\n",
              "2024-10-31 -0.030429 -0.008923 -0.045025  0.177966   0.000000 -0.025568\n",
              "2024-11-30  0.051707  0.059633  0.381469  1.251799   0.051243  0.096329\n",
              "2024-12-31  0.055155 -0.024060  0.170008  0.047923   0.121147 -0.110512\n",
              "2025-01-31 -0.057583  0.026856  0.001882  0.673780   0.093350  0.018182\n",
              "2025-02-28  0.025872 -0.012695 -0.275877  0.165756  10.125146 -0.021618\n",
              "2025-03-31 -0.081500 -0.055719 -0.115435 -0.012500   0.019764  0.050262\n",
              "2025-04-30 -0.043353 -0.008670  0.088748 -0.001582   0.000000 -0.001994\n",
              "2025-05-31 -0.053584  0.062845  0.227885  0.668780   0.000000  0.052094\n",
              "2025-06-30  0.021509  0.051386 -0.083126 -0.094017  -0.103093  0.045279\n",
              "2025-07-31  0.011698  0.023032 -0.029560 -0.159329   0.000000  0.020276\n",
              "2025-08-31  0.119639  0.020520  0.083044  0.407731   0.000000  0.077512\n",
              "2025-09-30  0.027268 -0.002031  0.000659  0.056687   0.000000 -0.012744"
            ]
          },
          "execution_count": 37,
          "metadata": {},
          "output_type": "execute_result"
        }
      ],
      "source": [
        "# YOUR CHANGES HERE\n",
        "\n",
        "historical_returns = historical_prices.pct_change().dropna()\n",
        "historical_returns"
      ]
    },
    {
      "cell_type": "markdown",
      "metadata": {
        "id": "OjhEYCWOrIu3"
      },
      "source": [
        "Save the data as a TSV file named \"historical_returns.tsv\" and include a header row with the column names \"date\" and the 6 stock ticker symbols.\n",
        "Each row should have the date at the end of the month and the corresponding *relative* price changes.\n",
        "For example, if the previous price was \\$100 and the new price is \\$110, the return value should be 0.10.\n",
        "There should only be 23 rows of data in this file, since they are computed as the differences of 24 prices."
      ]
    },
    {
      "cell_type": "code",
      "execution_count": 38,
      "metadata": {
        "id": "cN-7q9QvvyKG"
      },
      "outputs": [],
      "source": [
        "# YOUR CHANGES HERE\n",
        "historical_returns_tsv = historical_returns.reset_index().rename(columns={'Date': 'date'})\n",
        "historical_returns_tsv.to_csv('historical_returns.tsv', sep=\"\\t\")"
      ]
    },
    {
      "cell_type": "markdown",
      "metadata": {
        "id": "vyBtnCTUtfRq"
      },
      "source": [
        "Submit \"historical_returns.tsv\" in Gradescope."
      ]
    },
    {
      "cell_type": "markdown",
      "metadata": {
        "id": "MoCkf4ouV9IA"
      },
      "source": [
        "## Part 3: Estimate Returns\n",
        "\n",
        "Estimate the expected returns for each asset using the previously calculated return data.\n",
        "Just compute the average (mean) return for each asset over your data set; do not use other estimators that have been mentioned.\n",
        "This will serve as your estimate of expected return for each asset."
      ]
    },
    {
      "cell_type": "code",
      "execution_count": 65,
      "metadata": {
        "id": "N2iDEhSRxd2n"
      },
      "outputs": [
        {
          "data": {
            "text/html": [
              "<div>\n",
              "<style scoped>\n",
              "    .dataframe tbody tr th:only-of-type {\n",
              "        vertical-align: middle;\n",
              "    }\n",
              "\n",
              "    .dataframe tbody tr th {\n",
              "        vertical-align: top;\n",
              "    }\n",
              "\n",
              "    .dataframe thead th {\n",
              "        text-align: right;\n",
              "    }\n",
              "</style>\n",
              "<table border=\"1\" class=\"dataframe\">\n",
              "  <thead>\n",
              "    <tr style=\"text-align: right;\">\n",
              "      <th></th>\n",
              "      <th>asset</th>\n",
              "      <th>estimated_return</th>\n",
              "    </tr>\n",
              "  </thead>\n",
              "  <tbody>\n",
              "    <tr>\n",
              "      <th>0</th>\n",
              "      <td>AAPL</td>\n",
              "      <td>0.015935</td>\n",
              "    </tr>\n",
              "    <tr>\n",
              "      <th>1</th>\n",
              "      <td>SPY</td>\n",
              "      <td>0.018762</td>\n",
              "    </tr>\n",
              "    <tr>\n",
              "      <th>2</th>\n",
              "      <td>TSLA</td>\n",
              "      <td>0.024286</td>\n",
              "    </tr>\n",
              "    <tr>\n",
              "      <th>3</th>\n",
              "      <td>FNMA</td>\n",
              "      <td>0.165677</td>\n",
              "    </tr>\n",
              "    <tr>\n",
              "      <th>4</th>\n",
              "      <td>FIGR.PVT</td>\n",
              "      <td>0.571584</td>\n",
              "    </tr>\n",
              "    <tr>\n",
              "      <th>5</th>\n",
              "      <td>F</td>\n",
              "      <td>0.006677</td>\n",
              "    </tr>\n",
              "  </tbody>\n",
              "</table>\n",
              "</div>"
            ],
            "text/plain": [
              "      asset  estimated_return\n",
              "0      AAPL          0.015935\n",
              "1       SPY          0.018762\n",
              "2      TSLA          0.024286\n",
              "3      FNMA          0.165677\n",
              "4  FIGR.PVT          0.571584\n",
              "5         F          0.006677"
            ]
          },
          "execution_count": 65,
          "metadata": {},
          "output_type": "execute_result"
        }
      ],
      "source": [
        "# YOUR CHANGES HERE\n",
        "\n",
        "# estimated_returns = pd.DataFrame({'asset': historical_returns.columns, 'estimated_return': historical_returns.mean()})\n",
        "estimated_returns = historical_returns.mean().reset_index().rename(columns={'index': 'asset', 0: 'estimated_return'})\n",
        "# estimated_returns = estimated_returns.reset_index(drop=True)\n",
        "estimated_returns"
      ]
    },
    {
      "cell_type": "markdown",
      "metadata": {
        "id": "e5YTEwoarM2M"
      },
      "source": [
        "Save the estimated returns in a TSV file named \"estimated_returns.tsv\" and include a header row with the column names \"asset\" and \"estimated_return\"."
      ]
    },
    {
      "cell_type": "code",
      "execution_count": 66,
      "metadata": {
        "id": "At71YDpwvwUw"
      },
      "outputs": [],
      "source": [
        "# YOUR CHANGES HERE\n",
        "\n",
        "estimated_returns.to_csv(\"estimated_returns.tsv\", sep=\"\\t\")"
      ]
    },
    {
      "cell_type": "markdown",
      "metadata": {
        "id": "cjfnF-2Wtj6r"
      },
      "source": [
        "Submit \"estimated_returns.tsv\" in Gradescope."
      ]
    },
    {
      "cell_type": "markdown",
      "metadata": {
        "id": "VTuIqrkAWXVL"
      },
      "source": [
        "## Part 4: Estimate Risk\n",
        "\n",
        "Estimate the covariance matrix for the asset returns to understand how the assets move together."
      ]
    },
    {
      "cell_type": "code",
      "execution_count": 67,
      "metadata": {
        "id": "RFZfIkTMxcv7"
      },
      "outputs": [
        {
          "data": {
            "text/html": [
              "<div>\n",
              "<style scoped>\n",
              "    .dataframe tbody tr th:only-of-type {\n",
              "        vertical-align: middle;\n",
              "    }\n",
              "\n",
              "    .dataframe tbody tr th {\n",
              "        vertical-align: top;\n",
              "    }\n",
              "\n",
              "    .dataframe thead th {\n",
              "        text-align: right;\n",
              "    }\n",
              "</style>\n",
              "<table border=\"1\" class=\"dataframe\">\n",
              "  <thead>\n",
              "    <tr style=\"text-align: right;\">\n",
              "      <th></th>\n",
              "      <th>AAPL</th>\n",
              "      <th>SPY</th>\n",
              "      <th>TSLA</th>\n",
              "      <th>FNMA</th>\n",
              "      <th>FIGR.PVT</th>\n",
              "      <th>F</th>\n",
              "    </tr>\n",
              "  </thead>\n",
              "  <tbody>\n",
              "    <tr>\n",
              "      <th>AAPL</th>\n",
              "      <td>0.003475</td>\n",
              "      <td>0.000785</td>\n",
              "      <td>0.003101</td>\n",
              "      <td>-0.002082</td>\n",
              "      <td>-0.000849</td>\n",
              "      <td>0.000118</td>\n",
              "    </tr>\n",
              "    <tr>\n",
              "      <th>SPY</th>\n",
              "      <td>0.000785</td>\n",
              "      <td>0.001256</td>\n",
              "      <td>0.002338</td>\n",
              "      <td>0.003515</td>\n",
              "      <td>-0.009210</td>\n",
              "      <td>0.001689</td>\n",
              "    </tr>\n",
              "    <tr>\n",
              "      <th>TSLA</th>\n",
              "      <td>0.003101</td>\n",
              "      <td>0.002338</td>\n",
              "      <td>0.025568</td>\n",
              "      <td>0.017604</td>\n",
              "      <td>-0.122336</td>\n",
              "      <td>0.002327</td>\n",
              "    </tr>\n",
              "    <tr>\n",
              "      <th>FNMA</th>\n",
              "      <td>-0.002082</td>\n",
              "      <td>0.003515</td>\n",
              "      <td>0.017604</td>\n",
              "      <td>0.105798</td>\n",
              "      <td>-0.018495</td>\n",
              "      <td>0.009414</td>\n",
              "    </tr>\n",
              "    <tr>\n",
              "      <th>FIGR.PVT</th>\n",
              "      <td>-0.000849</td>\n",
              "      <td>-0.009210</td>\n",
              "      <td>-0.122336</td>\n",
              "      <td>-0.018495</td>\n",
              "      <td>4.622610</td>\n",
              "      <td>-0.000629</td>\n",
              "    </tr>\n",
              "    <tr>\n",
              "      <th>F</th>\n",
              "      <td>0.000118</td>\n",
              "      <td>0.001689</td>\n",
              "      <td>0.002327</td>\n",
              "      <td>0.009414</td>\n",
              "      <td>-0.000629</td>\n",
              "      <td>0.007049</td>\n",
              "    </tr>\n",
              "  </tbody>\n",
              "</table>\n",
              "</div>"
            ],
            "text/plain": [
              "              AAPL       SPY      TSLA      FNMA  FIGR.PVT         F\n",
              "AAPL      0.003475  0.000785  0.003101 -0.002082 -0.000849  0.000118\n",
              "SPY       0.000785  0.001256  0.002338  0.003515 -0.009210  0.001689\n",
              "TSLA      0.003101  0.002338  0.025568  0.017604 -0.122336  0.002327\n",
              "FNMA     -0.002082  0.003515  0.017604  0.105798 -0.018495  0.009414\n",
              "FIGR.PVT -0.000849 -0.009210 -0.122336 -0.018495  4.622610 -0.000629\n",
              "F         0.000118  0.001689  0.002327  0.009414 -0.000629  0.007049"
            ]
          },
          "execution_count": 67,
          "metadata": {},
          "output_type": "execute_result"
        }
      ],
      "source": [
        "# YOUR CHANGES HERE\n",
        "\n",
        "estimated_covariance = historical_returns.cov()\n",
        "estimated_covariance"
      ]
    },
    {
      "cell_type": "markdown",
      "metadata": {
        "id": "sOmn4s_yr5qn"
      },
      "source": [
        "Save the estimated covariances to a TSV file named \"estimated_covariance.tsv\".\n",
        "The header row should have a blank column name followed by the names of the assets.\n",
        "Each data row should start with the name of an asset for that row, and be followed by the individual covariances corresponding to that row and column's assets.\n",
        "(This is the format of pandas's `to_csv` method with `sep=\"\\t\"` when used on a covariance matrix as computed in the examples.)"
      ]
    },
    {
      "cell_type": "code",
      "execution_count": 68,
      "metadata": {
        "id": "Te-NPQxSvuXm"
      },
      "outputs": [],
      "source": [
        "# YOUR CHANGES HERE\n",
        "\n",
        "estimated_covariance = estimated_covariance.to_csv(\"estimated_covariance.tsv\", sep=\"\\t\")"
      ]
    },
    {
      "cell_type": "markdown",
      "metadata": {
        "id": "lS9vek0btoK6"
      },
      "source": [
        "Submit \"estimated_covariance.tsv\" in Gradescope."
      ]
    },
    {
      "cell_type": "markdown",
      "metadata": {
        "id": "C8rC5Eo3sEme"
      },
      "source": [
        "## Part 5: Construct the Maximum Return Portfolio\n",
        "\n",
        "Compute the maximum return portfolio based on your previously estimated risks and returns."
      ]
    },
    {
      "cell_type": "code",
      "execution_count": 73,
      "metadata": {
        "id": "8LW0KKm-xb2I"
      },
      "outputs": [
        {
          "data": {
            "text/html": [
              "<div>\n",
              "<style scoped>\n",
              "    .dataframe tbody tr th:only-of-type {\n",
              "        vertical-align: middle;\n",
              "    }\n",
              "\n",
              "    .dataframe tbody tr th {\n",
              "        vertical-align: top;\n",
              "    }\n",
              "\n",
              "    .dataframe thead th {\n",
              "        text-align: right;\n",
              "    }\n",
              "</style>\n",
              "<table border=\"1\" class=\"dataframe\">\n",
              "  <thead>\n",
              "    <tr style=\"text-align: right;\">\n",
              "      <th></th>\n",
              "      <th>asset</th>\n",
              "      <th>allocation</th>\n",
              "    </tr>\n",
              "  </thead>\n",
              "  <tbody>\n",
              "    <tr>\n",
              "      <th>0</th>\n",
              "      <td>AAPL</td>\n",
              "      <td>-4.456965e-11</td>\n",
              "    </tr>\n",
              "    <tr>\n",
              "      <th>1</th>\n",
              "      <td>SPY</td>\n",
              "      <td>-4.541402e-11</td>\n",
              "    </tr>\n",
              "    <tr>\n",
              "      <th>2</th>\n",
              "      <td>TSLA</td>\n",
              "      <td>-4.711422e-11</td>\n",
              "    </tr>\n",
              "    <tr>\n",
              "      <th>3</th>\n",
              "      <td>FNMA</td>\n",
              "      <td>-1.285509e-10</td>\n",
              "    </tr>\n",
              "    <tr>\n",
              "      <th>4</th>\n",
              "      <td>FIGR.PVT</td>\n",
              "      <td>1.000000e+00</td>\n",
              "    </tr>\n",
              "    <tr>\n",
              "      <th>5</th>\n",
              "      <td>F</td>\n",
              "      <td>-4.192308e-11</td>\n",
              "    </tr>\n",
              "  </tbody>\n",
              "</table>\n",
              "</div>"
            ],
            "text/plain": [
              "      asset    allocation\n",
              "0      AAPL -4.456965e-11\n",
              "1       SPY -4.541402e-11\n",
              "2      TSLA -4.711422e-11\n",
              "3      FNMA -1.285509e-10\n",
              "4  FIGR.PVT  1.000000e+00\n",
              "5         F -4.192308e-11"
            ]
          },
          "execution_count": 73,
          "metadata": {},
          "output_type": "execute_result"
        }
      ],
      "source": [
        "# YOUR CHANGES HERE\n",
        "\n",
        "# Expected returns vector:\n",
        "mu_max = estimated_returns['estimated_return'].to_numpy()\n",
        "assets = estimated_returns['asset'].to_numpy()\n",
        "\n",
        "n_max = len(mu_max)\n",
        "x_max = cp.Variable(n_max)\n",
        "\n",
        "# Maximum return\n",
        "max_objective = cp.Maximize(mu_max @ x_max)\n",
        "max_constraints = [x_max >= 0, cp.sum(x_max) == 1]\n",
        "max_prob = cp.Problem(max_objective, max_constraints)\n",
        "max_prob.solve()\n",
        "\n",
        "# Segment into two columns\n",
        "maximum_return = pd.DataFrame({'asset': estimated_returns['asset'].values, 'allocation': x_max.value})\n",
        "maximum_return"
      ]
    },
    {
      "cell_type": "markdown",
      "metadata": {
        "id": "jjPOxui5sLTD"
      },
      "source": [
        "Save the maximum return portfolio in a TSV file named \"maximum_return.tsv\".\n",
        "The header row should have two columns, \"asset\" and \"allocation\".\n",
        "The allocation values should sum up to one.\n"
      ]
    },
    {
      "cell_type": "code",
      "execution_count": 74,
      "metadata": {
        "id": "xLl_j8z1vtiT"
      },
      "outputs": [],
      "source": [
        "# YOUR CHANGES HERE\n",
        "\n",
        "maximum_return.to_csv(\"maximum_return.tsv\", sep=\"\\t\")"
      ]
    },
    {
      "cell_type": "markdown",
      "metadata": {
        "id": "4bm3xrxptqJ2"
      },
      "source": [
        "Submit \"maximum_return.tsv\" in Gradescope."
      ]
    },
    {
      "cell_type": "markdown",
      "metadata": {
        "id": "r_QxQ5NpsL-c"
      },
      "source": [
        "## Part 6: Construct the Minimum Risk Portfolio\n",
        "\n",
        "Compute the minimum return portfolio based on your previously estimated risks and returns."
      ]
    },
    {
      "cell_type": "code",
      "execution_count": 75,
      "metadata": {
        "id": "daHSqhv9xbIF"
      },
      "outputs": [
        {
          "data": {
            "text/html": [
              "<div>\n",
              "<style scoped>\n",
              "    .dataframe tbody tr th:only-of-type {\n",
              "        vertical-align: middle;\n",
              "    }\n",
              "\n",
              "    .dataframe tbody tr th {\n",
              "        vertical-align: top;\n",
              "    }\n",
              "\n",
              "    .dataframe thead th {\n",
              "        text-align: right;\n",
              "    }\n",
              "</style>\n",
              "<table border=\"1\" class=\"dataframe\">\n",
              "  <thead>\n",
              "    <tr style=\"text-align: right;\">\n",
              "      <th></th>\n",
              "      <th>asset</th>\n",
              "      <th>allocation</th>\n",
              "    </tr>\n",
              "  </thead>\n",
              "  <tbody>\n",
              "    <tr>\n",
              "      <th>0</th>\n",
              "      <td>AAPL</td>\n",
              "      <td>3.201353e-08</td>\n",
              "    </tr>\n",
              "    <tr>\n",
              "      <th>1</th>\n",
              "      <td>SPY</td>\n",
              "      <td>8.257165e-08</td>\n",
              "    </tr>\n",
              "    <tr>\n",
              "      <th>2</th>\n",
              "      <td>TSLA</td>\n",
              "      <td>1.127739e-07</td>\n",
              "    </tr>\n",
              "    <tr>\n",
              "      <th>3</th>\n",
              "      <td>FNMA</td>\n",
              "      <td>1.807413e-08</td>\n",
              "    </tr>\n",
              "    <tr>\n",
              "      <th>4</th>\n",
              "      <td>FIGR.PVT</td>\n",
              "      <td>-4.714564e-10</td>\n",
              "    </tr>\n",
              "    <tr>\n",
              "      <th>5</th>\n",
              "      <td>F</td>\n",
              "      <td>9.999998e-01</td>\n",
              "    </tr>\n",
              "  </tbody>\n",
              "</table>\n",
              "</div>"
            ],
            "text/plain": [
              "      asset    allocation\n",
              "0      AAPL  3.201353e-08\n",
              "1       SPY  8.257165e-08\n",
              "2      TSLA  1.127739e-07\n",
              "3      FNMA  1.807413e-08\n",
              "4  FIGR.PVT -4.714564e-10\n",
              "5         F  9.999998e-01"
            ]
          },
          "execution_count": 75,
          "metadata": {},
          "output_type": "execute_result"
        }
      ],
      "source": [
        "# YOUR CHANGES HERE\n",
        "\n",
        "# Expected returns vector:\n",
        "mu_min = estimated_returns['estimated_return'].to_numpy()\n",
        "assets = estimated_returns['asset'].to_numpy()\n",
        "\n",
        "n_min = len(mu_min)\n",
        "x_min = cp.Variable(n_min)\n",
        "\n",
        "# Minimum return\n",
        "min_objective = cp.Minimize(mu_min @ x_min)\n",
        "min_constraints = [x_min >= 0, cp.sum(x_min) == 1]\n",
        "min_prob = cp.Problem(min_objective, min_constraints)\n",
        "min_prob.solve()\n",
        "\n",
        "# Segment into two columns\n",
        "minimum_return = pd.DataFrame({'asset': estimated_returns['asset'].values, 'allocation': x_min.value})\n",
        "minimum_return"
      ]
    },
    {
      "cell_type": "markdown",
      "metadata": {
        "id": "wzldkIPxsQor"
      },
      "source": [
        "Save the minimum risk portfolio in a TSV file named \"minimum_risk.tsv\".\n",
        "The header row should have two columns, \"asset\" and \"allocation\".\n",
        "The allocation values should sum up to one.\n"
      ]
    },
    {
      "cell_type": "code",
      "execution_count": 76,
      "metadata": {
        "id": "YRXccAflvrBZ"
      },
      "outputs": [],
      "source": [
        "# YOUR CHANGES HERE\n",
        "\n",
        "minimum_return.to_csv(\"minimum_return.tsv\", sep=\"\\t\")"
      ]
    },
    {
      "cell_type": "markdown",
      "metadata": {
        "id": "P5gy_XETtsoi"
      },
      "source": [
        "Submit \"minimum_risk.tsv\" in Gradescope."
      ]
    },
    {
      "cell_type": "markdown",
      "metadata": {
        "id": "mzyJGWDvWhva"
      },
      "source": [
        "## Part 7: Build Efficient Frontier Portfolios\n",
        "\n",
        "Compute 101 portfolios along the mean-variance efficient frontier with evenly spaced estimated returns.\n",
        "The first portfolio should be the minimum risk portfolio from part 4, and the last portfolio should be the maximum return portfolio from part 3.\n",
        "The estimated return of each portfolio should be higher than the previous by one percent of the difference between the first and last portfolios.\n",
        "That is, the estimated return of the portfolios should be similar to `np.linspace(min_risk_return, max_return, 101)`.\n"
      ]
    },
    {
      "cell_type": "code",
      "execution_count": null,
      "metadata": {
        "id": "XaR6mKwvxZ4W"
      },
      "outputs": [],
      "source": [
        "# YOUR CHANGES HERE\n",
        "\n",
        "..."
      ]
    },
    {
      "cell_type": "markdown",
      "metadata": {
        "id": "8e3WwTJvsDzh"
      },
      "source": [
        "Save the portfolios in a TSV file named \"efficient_frontier.tsv\".\n",
        "The header row should have columns \"index\", \"return\", \"risk\", and all the asset tickers.\n",
        "Each data row should have the portfolio index (0-100), the estimated return of the portfolio, the estimated standard deviation (not variance) of the portfolio, and all the asset allocations (which should sum to one)."
      ]
    },
    {
      "cell_type": "code",
      "execution_count": null,
      "metadata": {
        "id": "e9DKadyNvniT"
      },
      "outputs": [],
      "source": [
        "# YOUR CHANGES HERE\n",
        "\n",
        "..."
      ]
    },
    {
      "cell_type": "markdown",
      "metadata": {
        "id": "jiOa06rItvbs"
      },
      "source": [
        "Submit \"efficient_frontier.tsv\" in Gradescope."
      ]
    },
    {
      "cell_type": "markdown",
      "metadata": {
        "id": "LoW0XBXAzzR6"
      },
      "source": [
        "## Part 8: Check Maximum Return Portfolio Stability\n",
        "\n",
        "Check the stability of the maximum return portfolio by resampling the estimated risk/return model.\n",
        "\n",
        "Repeat 1000 times -\n",
        "1. Use `np.random.multivariate_normal` to generate 23 return samples using your previously estimated risks and returns.\n",
        "2. Estimate the return of each asset using that resampled return history.\n",
        "3. Check which asset had the highest return in those resampled estimates.\n",
        "\n",
        "This procedure is a reduced and simplified version of the Michaud resampled efficient frontier procedure that takes uncertainty in the risk model into account."
      ]
    },
    {
      "cell_type": "code",
      "execution_count": null,
      "metadata": {
        "id": "Xfke5V57xYvT"
      },
      "outputs": [],
      "source": [
        "# YOUR CHANGES HERE\n",
        "\n",
        "..."
      ]
    },
    {
      "cell_type": "markdown",
      "metadata": {
        "id": "fes_ScDyz0jp"
      },
      "source": [
        "Save a file \"max_return_probabilities.tsv\" with the distribution of highest return assets.\n",
        "The header row should have columns \"asset\" and \"probability\".\n",
        "There should be a data row for each asset and its sample probability of having the highest return based on those 1000 resampled estimates.\n"
      ]
    },
    {
      "cell_type": "code",
      "execution_count": null,
      "metadata": {
        "id": "ZAjr15ASvj1S"
      },
      "outputs": [],
      "source": [
        "# YOUR CHANGES HERE\n",
        "\n",
        "..."
      ]
    },
    {
      "cell_type": "markdown",
      "metadata": {
        "id": "2Xd34FQ6txoj"
      },
      "source": [
        "Submit \"max_return_probabilities.tsv\" in Gradescope."
      ]
    },
    {
      "cell_type": "markdown",
      "metadata": {
        "id": "SYbJ21qUYvL_"
      },
      "source": [
        "## Part 9: Acknowledgments\n",
        "\n",
        "Make a file \"acknowledgments.txt\" documenting any outside sources or help on this project.\n",
        "If you discussed this assignment with anyone, please acknowledge them here.\n",
        "If you used any libraries not mentioned in this module's content, please list them with a brief explanation what you used them for.\n",
        "If you used any generative AI tools, please add links to your transcripts below, and any other information that you feel is necessary to comply with the generative AI policy.\n",
        "If no acknowledgements are appropriate, just write none in the file.\n"
      ]
    },
    {
      "cell_type": "markdown",
      "metadata": {
        "id": "H3oWYYHlt42V"
      },
      "source": [
        "Submit \"acknowledgements.txt\" in Gradescope."
      ]
    },
    {
      "cell_type": "markdown",
      "metadata": {
        "id": "b8FWiTjvwscA"
      },
      "source": [
        "## Part 10: Code\n",
        "\n",
        "Please submit a Jupyter notebook that can reproduce all your calculations and recreate the previously submitted files.\n",
        "You do not need to provide code for data collection if you did that by manually."
      ]
    },
    {
      "cell_type": "markdown",
      "metadata": {
        "id": "HDEYI-K8vcUW"
      },
      "source": [
        "Submit \"project.ipynb\" in Gradescope."
      ]
    }
  ],
  "metadata": {
    "colab": {
      "toc_visible": false
    },
    "kernelspec": {
      "display_name": "Python 3",
      "name": "python3"
    },
    "language_info": {
      "codemirror_mode": {
        "name": "ipython",
        "version": 3
      },
      "file_extension": ".py",
      "mimetype": "text/x-python",
      "name": "python",
      "nbconvert_exporter": "python",
      "pygments_lexer": "ipython3",
      "version": "3.12.1"
    }
  },
  "nbformat": 4,
  "nbformat_minor": 0
}
