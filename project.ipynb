{
  "cells": [
    {
      "cell_type": "markdown",
      "metadata": {
        "id": "DDELa7o5UXrY"
      },
      "source": [
        "# DX 704 Week 1 Project\n",
        "\n",
        "This week's project will build a portfolio risk and return model, and make investing recommendations for hypothetical clients.\n",
        "You will collect historical data, estimate returns and risks, construct efficient frontier portfolios, and sanity check the certainty of the maximum return portfolio."
      ]
    },
    {
      "cell_type": "markdown",
      "metadata": {
        "id": "P6SxppNu8p8k"
      },
      "source": [
        "The full project description and a template notebook are available on GitHub at the following link.\n",
        "\n",
        "https://github.com/bu-cds-dx704/dx704-project-01\n"
      ]
    },
    {
      "cell_type": "markdown",
      "metadata": {
        "id": "GmIaQcdCwObV"
      },
      "source": [
        "Feel free to use optimization tools or libraries (such as CVXOPT or scipy.optimize) to perform any calculations required for this mini project."
      ]
    },
    {
      "cell_type": "markdown",
      "metadata": {},
      "source": [
        "### Example Code\n",
        "\n",
        "You may find it helpful to refer to these GitHub repositories of Jupyter notebooks for example code.\n",
        "\n",
        "* https://github.com/bu-cds-omds/dx601-examples\n",
        "* https://github.com/bu-cds-omds/dx602-examples\n",
        "* https://github.com/bu-cds-omds/dx603-examples\n",
        "* https://github.com/bu-cds-omds/dx704-examples\n",
        "\n",
        "Any calculations demonstrated in code examples or videos may be found in these notebooks, and you are allowed to copy this example code in your homework answers."
      ]
    },
    {
      "cell_type": "markdown",
      "metadata": {
        "id": "pv3PslO0V5Lm"
      },
      "source": [
        "## Part 1: Collect Data\n",
        "\n",
        "Collect historical monthly price data for the last 24 months covering 6 different stocks.\n",
        "The data should cover 24 consecutive months including the last month that ended before this week's material was released on Blackboard.\n",
        "To be clear, if a month ends between the Blackboard release and submitting your project, you do not need to add that month.\n",
        "\n",
        "The six different stocks must include AAPL, SPY and TSLA.\n",
        "At least one of the remaining 3 tickers must start with the same letter as your last name (e.g. professor Considine could use COIN).\n",
        "This is to encourage diversity in what stocks you analyze; if you discuss this project with classmates, please make sure that you pick different tickers to differentiate your work.\n",
        "Do not pick stocks with fewer than 24 consecutive months of price data."
      ]
    },
    {
      "cell_type": "code",
      "execution_count": 1,
      "metadata": {
        "id": "6pL-ppubxfvC"
      },
      "outputs": [
        {
          "data": {
            "text/html": [
              "<div>\n",
              "<style scoped>\n",
              "    .dataframe tbody tr th:only-of-type {\n",
              "        vertical-align: middle;\n",
              "    }\n",
              "\n",
              "    .dataframe tbody tr th {\n",
              "        vertical-align: top;\n",
              "    }\n",
              "\n",
              "    .dataframe thead th {\n",
              "        text-align: right;\n",
              "    }\n",
              "</style>\n",
              "<table border=\"1\" class=\"dataframe\">\n",
              "  <thead>\n",
              "    <tr style=\"text-align: right;\">\n",
              "      <th></th>\n",
              "      <th>AAPL</th>\n",
              "      <th>SPY</th>\n",
              "      <th>TSLA</th>\n",
              "      <th>FNMA</th>\n",
              "      <th>FIGR.PVT</th>\n",
              "      <th>F</th>\n",
              "    </tr>\n",
              "    <tr>\n",
              "      <th>Date</th>\n",
              "      <th></th>\n",
              "      <th></th>\n",
              "      <th></th>\n",
              "      <th></th>\n",
              "      <th></th>\n",
              "      <th></th>\n",
              "    </tr>\n",
              "  </thead>\n",
              "  <tbody>\n",
              "    <tr>\n",
              "      <th>2023-10-31</th>\n",
              "      <td>169.113556</td>\n",
              "      <td>408.794342</td>\n",
              "      <td>200.839996</td>\n",
              "      <td>0.75</td>\n",
              "      <td>3.000000</td>\n",
              "      <td>8.581727</td>\n",
              "    </tr>\n",
              "    <tr>\n",
              "      <th>2023-11-30</th>\n",
              "      <td>188.355316</td>\n",
              "      <td>446.135223</td>\n",
              "      <td>240.080002</td>\n",
              "      <td>0.74</td>\n",
              "      <td>3.000000</td>\n",
              "      <td>9.030617</td>\n",
              "    </tr>\n",
              "    <tr>\n",
              "      <th>2023-12-31</th>\n",
              "      <td>190.913651</td>\n",
              "      <td>466.503662</td>\n",
              "      <td>248.479996</td>\n",
              "      <td>1.07</td>\n",
              "      <td>3.000000</td>\n",
              "      <td>10.729359</td>\n",
              "    </tr>\n",
              "    <tr>\n",
              "      <th>2024-01-31</th>\n",
              "      <td>182.851913</td>\n",
              "      <td>473.933411</td>\n",
              "      <td>187.289993</td>\n",
              "      <td>1.26</td>\n",
              "      <td>3.000000</td>\n",
              "      <td>10.315675</td>\n",
              "    </tr>\n",
              "    <tr>\n",
              "      <th>2024-02-29</th>\n",
              "      <td>179.461258</td>\n",
              "      <td>498.666504</td>\n",
              "      <td>201.880005</td>\n",
              "      <td>1.27</td>\n",
              "      <td>13.220000</td>\n",
              "      <td>11.244849</td>\n",
              "    </tr>\n",
              "    <tr>\n",
              "      <th>2024-03-31</th>\n",
              "      <td>170.257339</td>\n",
              "      <td>514.973816</td>\n",
              "      <td>175.789993</td>\n",
              "      <td>1.57</td>\n",
              "      <td>13.220000</td>\n",
              "      <td>12.004146</td>\n",
              "    </tr>\n",
              "    <tr>\n",
              "      <th>2024-04-30</th>\n",
              "      <td>169.115570</td>\n",
              "      <td>494.210358</td>\n",
              "      <td>183.279999</td>\n",
              "      <td>1.47</td>\n",
              "      <td>13.220000</td>\n",
              "      <td>10.982710</td>\n",
              "    </tr>\n",
              "    <tr>\n",
              "      <th>2024-05-31</th>\n",
              "      <td>191.138168</td>\n",
              "      <td>519.207397</td>\n",
              "      <td>178.080002</td>\n",
              "      <td>1.55</td>\n",
              "      <td>13.220000</td>\n",
              "      <td>11.097805</td>\n",
              "    </tr>\n",
              "    <tr>\n",
              "      <th>2024-06-30</th>\n",
              "      <td>209.401917</td>\n",
              "      <td>537.525024</td>\n",
              "      <td>197.880005</td>\n",
              "      <td>1.43</td>\n",
              "      <td>13.220000</td>\n",
              "      <td>11.472918</td>\n",
              "    </tr>\n",
              "    <tr>\n",
              "      <th>2024-07-31</th>\n",
              "      <td>220.795654</td>\n",
              "      <td>544.033997</td>\n",
              "      <td>232.070007</td>\n",
              "      <td>1.28</td>\n",
              "      <td>13.250000</td>\n",
              "      <td>9.899280</td>\n",
              "    </tr>\n",
              "    <tr>\n",
              "      <th>2024-08-31</th>\n",
              "      <td>227.939163</td>\n",
              "      <td>556.745667</td>\n",
              "      <td>214.110001</td>\n",
              "      <td>1.20</td>\n",
              "      <td>13.250000</td>\n",
              "      <td>10.397261</td>\n",
              "    </tr>\n",
              "    <tr>\n",
              "      <th>2024-09-30</th>\n",
              "      <td>231.920639</td>\n",
              "      <td>568.439941</td>\n",
              "      <td>261.630005</td>\n",
              "      <td>1.18</td>\n",
              "      <td>13.270000</td>\n",
              "      <td>9.811893</td>\n",
              "    </tr>\n",
              "    <tr>\n",
              "      <th>2024-10-31</th>\n",
              "      <td>224.863495</td>\n",
              "      <td>563.367371</td>\n",
              "      <td>249.850006</td>\n",
              "      <td>1.39</td>\n",
              "      <td>13.270000</td>\n",
              "      <td>9.561020</td>\n",
              "    </tr>\n",
              "    <tr>\n",
              "      <th>2024-11-30</th>\n",
              "      <td>236.490479</td>\n",
              "      <td>596.962891</td>\n",
              "      <td>345.160004</td>\n",
              "      <td>3.13</td>\n",
              "      <td>13.950000</td>\n",
              "      <td>10.482021</td>\n",
              "    </tr>\n",
              "    <tr>\n",
              "      <th>2024-12-31</th>\n",
              "      <td>249.534180</td>\n",
              "      <td>582.599915</td>\n",
              "      <td>403.839996</td>\n",
              "      <td>3.28</td>\n",
              "      <td>15.640000</td>\n",
              "      <td>9.323630</td>\n",
              "    </tr>\n",
              "    <tr>\n",
              "      <th>2025-01-31</th>\n",
              "      <td>235.165192</td>\n",
              "      <td>598.246399</td>\n",
              "      <td>404.600006</td>\n",
              "      <td>5.49</td>\n",
              "      <td>17.100000</td>\n",
              "      <td>9.493152</td>\n",
              "    </tr>\n",
              "    <tr>\n",
              "      <th>2025-02-28</th>\n",
              "      <td>241.249481</td>\n",
              "      <td>590.651794</td>\n",
              "      <td>292.980011</td>\n",
              "      <td>6.40</td>\n",
              "      <td>190.240005</td>\n",
              "      <td>9.287930</td>\n",
              "    </tr>\n",
              "    <tr>\n",
              "      <th>2025-03-31</th>\n",
              "      <td>221.587616</td>\n",
              "      <td>557.741150</td>\n",
              "      <td>259.160004</td>\n",
              "      <td>6.32</td>\n",
              "      <td>194.000000</td>\n",
              "      <td>9.754758</td>\n",
              "    </tr>\n",
              "    <tr>\n",
              "      <th>2025-04-30</th>\n",
              "      <td>211.981125</td>\n",
              "      <td>552.905457</td>\n",
              "      <td>282.160004</td>\n",
              "      <td>6.31</td>\n",
              "      <td>194.000000</td>\n",
              "      <td>9.735307</td>\n",
              "    </tr>\n",
              "    <tr>\n",
              "      <th>2025-05-31</th>\n",
              "      <td>200.622314</td>\n",
              "      <td>587.652771</td>\n",
              "      <td>346.459991</td>\n",
              "      <td>10.53</td>\n",
              "      <td>194.000000</td>\n",
              "      <td>10.242455</td>\n",
              "    </tr>\n",
              "    <tr>\n",
              "      <th>2025-06-30</th>\n",
              "      <td>204.937408</td>\n",
              "      <td>617.849976</td>\n",
              "      <td>317.660004</td>\n",
              "      <td>9.54</td>\n",
              "      <td>174.000000</td>\n",
              "      <td>10.706228</td>\n",
              "    </tr>\n",
              "    <tr>\n",
              "      <th>2025-07-31</th>\n",
              "      <td>207.334702</td>\n",
              "      <td>632.080017</td>\n",
              "      <td>308.269989</td>\n",
              "      <td>8.02</td>\n",
              "      <td>174.000000</td>\n",
              "      <td>10.923312</td>\n",
              "    </tr>\n",
              "    <tr>\n",
              "      <th>2025-08-31</th>\n",
              "      <td>232.139999</td>\n",
              "      <td>645.049988</td>\n",
              "      <td>333.869995</td>\n",
              "      <td>11.29</td>\n",
              "      <td>174.000000</td>\n",
              "      <td>11.770000</td>\n",
              "    </tr>\n",
              "    <tr>\n",
              "      <th>2025-09-30</th>\n",
              "      <td>238.470001</td>\n",
              "      <td>643.739990</td>\n",
              "      <td>334.089996</td>\n",
              "      <td>11.95</td>\n",
              "      <td>174.000000</td>\n",
              "      <td>11.620000</td>\n",
              "    </tr>\n",
              "  </tbody>\n",
              "</table>\n",
              "</div>"
            ],
            "text/plain": [
              "                  AAPL         SPY        TSLA   FNMA    FIGR.PVT          F\n",
              "Date                                                                        \n",
              "2023-10-31  169.113556  408.794342  200.839996   0.75    3.000000   8.581727\n",
              "2023-11-30  188.355316  446.135223  240.080002   0.74    3.000000   9.030617\n",
              "2023-12-31  190.913651  466.503662  248.479996   1.07    3.000000  10.729359\n",
              "2024-01-31  182.851913  473.933411  187.289993   1.26    3.000000  10.315675\n",
              "2024-02-29  179.461258  498.666504  201.880005   1.27   13.220000  11.244849\n",
              "2024-03-31  170.257339  514.973816  175.789993   1.57   13.220000  12.004146\n",
              "2024-04-30  169.115570  494.210358  183.279999   1.47   13.220000  10.982710\n",
              "2024-05-31  191.138168  519.207397  178.080002   1.55   13.220000  11.097805\n",
              "2024-06-30  209.401917  537.525024  197.880005   1.43   13.220000  11.472918\n",
              "2024-07-31  220.795654  544.033997  232.070007   1.28   13.250000   9.899280\n",
              "2024-08-31  227.939163  556.745667  214.110001   1.20   13.250000  10.397261\n",
              "2024-09-30  231.920639  568.439941  261.630005   1.18   13.270000   9.811893\n",
              "2024-10-31  224.863495  563.367371  249.850006   1.39   13.270000   9.561020\n",
              "2024-11-30  236.490479  596.962891  345.160004   3.13   13.950000  10.482021\n",
              "2024-12-31  249.534180  582.599915  403.839996   3.28   15.640000   9.323630\n",
              "2025-01-31  235.165192  598.246399  404.600006   5.49   17.100000   9.493152\n",
              "2025-02-28  241.249481  590.651794  292.980011   6.40  190.240005   9.287930\n",
              "2025-03-31  221.587616  557.741150  259.160004   6.32  194.000000   9.754758\n",
              "2025-04-30  211.981125  552.905457  282.160004   6.31  194.000000   9.735307\n",
              "2025-05-31  200.622314  587.652771  346.459991  10.53  194.000000  10.242455\n",
              "2025-06-30  204.937408  617.849976  317.660004   9.54  174.000000  10.706228\n",
              "2025-07-31  207.334702  632.080017  308.269989   8.02  174.000000  10.923312\n",
              "2025-08-31  232.139999  645.049988  333.869995  11.29  174.000000  11.770000\n",
              "2025-09-30  238.470001  643.739990  334.089996  11.95  174.000000  11.620000"
            ]
          },
          "execution_count": 1,
          "metadata": {},
          "output_type": "execute_result"
        }
      ],
      "source": [
        "# YOUR CHANGES HERE\n",
        "\n",
        "import cvxpy as cp\n",
        "import matplotlib.pyplot as plt\n",
        "import numpy as np\n",
        "import pandas as pd\n",
        "\n",
        "import yfinance as yf\n",
        "\n",
        "tickers = [\"AAPL\", \"SPY\", \"TSLA\", \"FNMA\", \"FIGR.PVT\", \"F\"]\n",
        "\n",
        "historical_prices = None\n",
        "\n",
        "for t in tickers:\n",
        "    ticker = yf.Ticker(t)\n",
        "    history =  ticker.history(period=\"2y\")\n",
        "\n",
        "    monthly_prices = history['Close'].resample('ME').last()\n",
        "\n",
        "    if historical_prices is None:\n",
        "        historical_prices = monthly_prices\n",
        "    else:\n",
        "        historical_prices = pd.concat([historical_prices, monthly_prices], axis=1)\n",
        "\n",
        "historical_prices.columns = tickers\n",
        "historical_prices.index = pd.to_datetime(historical_prices.index).strftime(\"%Y-%m-%d\")\n",
        "historical_prices = historical_prices.iloc[1:]\n",
        "\n",
        "historical_prices"
      ]
    },
    {
      "cell_type": "markdown",
      "metadata": {
        "id": "1uH9oDQ1rEQT"
      },
      "source": [
        "Save the data as a TSV file named \"historical_prices.tsv\" and include a header row with the column names \"date\" and the 6 stock ticker symbols.\n",
        "The date should be the last trading day of the month, so it may not be the last day of the month.\n",
        "For example, the last trading day of November 2024 was 2024-11-29.\n",
        "The remaining columns should contain the adjusted closing prices of the corresponding stock tickers on that day.\n"
      ]
    },
    {
      "cell_type": "code",
      "execution_count": 2,
      "metadata": {
        "id": "mHbwKHOhtQ3E"
      },
      "outputs": [],
      "source": [
        "# YOUR CHANGES HERE\n",
        "\n",
        "# Save historical_prices as a TSV file\n",
        "historical_prices_tsv = historical_prices.reset_index().rename(columns={'Date': 'date'})\n",
        "historical_prices_tsv.to_csv('historical_prices.tsv', sep=\"\\t\", index=False)"
      ]
    },
    {
      "cell_type": "markdown",
      "metadata": {
        "id": "2hp0yuXPtT9V"
      },
      "source": [
        "Submit \"historical_prices.tsv\" in Gradescope."
      ]
    },
    {
      "cell_type": "markdown",
      "metadata": {
        "id": "7XdNVWWirUd5"
      },
      "source": [
        "## Part 2: Calculate Historical Asset Returns\n",
        "\n",
        "Calculate the historical asset returns based on the price data that you previously collected."
      ]
    },
    {
      "cell_type": "code",
      "execution_count": 3,
      "metadata": {
        "id": "aL-kVua2xex-"
      },
      "outputs": [
        {
          "data": {
            "text/html": [
              "<div>\n",
              "<style scoped>\n",
              "    .dataframe tbody tr th:only-of-type {\n",
              "        vertical-align: middle;\n",
              "    }\n",
              "\n",
              "    .dataframe tbody tr th {\n",
              "        vertical-align: top;\n",
              "    }\n",
              "\n",
              "    .dataframe thead th {\n",
              "        text-align: right;\n",
              "    }\n",
              "</style>\n",
              "<table border=\"1\" class=\"dataframe\">\n",
              "  <thead>\n",
              "    <tr style=\"text-align: right;\">\n",
              "      <th></th>\n",
              "      <th>date</th>\n",
              "      <th>AAPL</th>\n",
              "      <th>SPY</th>\n",
              "      <th>TSLA</th>\n",
              "      <th>FNMA</th>\n",
              "      <th>FIGR.PVT</th>\n",
              "      <th>F</th>\n",
              "    </tr>\n",
              "  </thead>\n",
              "  <tbody>\n",
              "    <tr>\n",
              "      <th>0</th>\n",
              "      <td>2023-11-30</td>\n",
              "      <td>0.113780</td>\n",
              "      <td>0.091344</td>\n",
              "      <td>0.195379</td>\n",
              "      <td>-0.013333</td>\n",
              "      <td>0.000000</td>\n",
              "      <td>0.052308</td>\n",
              "    </tr>\n",
              "    <tr>\n",
              "      <th>1</th>\n",
              "      <td>2023-12-31</td>\n",
              "      <td>0.013582</td>\n",
              "      <td>0.045655</td>\n",
              "      <td>0.034988</td>\n",
              "      <td>0.445946</td>\n",
              "      <td>0.000000</td>\n",
              "      <td>0.188109</td>\n",
              "    </tr>\n",
              "    <tr>\n",
              "      <th>2</th>\n",
              "      <td>2024-01-31</td>\n",
              "      <td>-0.042227</td>\n",
              "      <td>0.015926</td>\n",
              "      <td>-0.246257</td>\n",
              "      <td>0.177570</td>\n",
              "      <td>0.000000</td>\n",
              "      <td>-0.038556</td>\n",
              "    </tr>\n",
              "    <tr>\n",
              "      <th>3</th>\n",
              "      <td>2024-02-29</td>\n",
              "      <td>-0.018543</td>\n",
              "      <td>0.052187</td>\n",
              "      <td>0.077901</td>\n",
              "      <td>0.007937</td>\n",
              "      <td>3.406667</td>\n",
              "      <td>0.090074</td>\n",
              "    </tr>\n",
              "    <tr>\n",
              "      <th>4</th>\n",
              "      <td>2024-03-31</td>\n",
              "      <td>-0.051286</td>\n",
              "      <td>0.032702</td>\n",
              "      <td>-0.129235</td>\n",
              "      <td>0.236221</td>\n",
              "      <td>0.000000</td>\n",
              "      <td>0.067524</td>\n",
              "    </tr>\n",
              "    <tr>\n",
              "      <th>5</th>\n",
              "      <td>2024-04-30</td>\n",
              "      <td>-0.006706</td>\n",
              "      <td>-0.040319</td>\n",
              "      <td>0.042608</td>\n",
              "      <td>-0.063694</td>\n",
              "      <td>0.000000</td>\n",
              "      <td>-0.085090</td>\n",
              "    </tr>\n",
              "    <tr>\n",
              "      <th>6</th>\n",
              "      <td>2024-05-31</td>\n",
              "      <td>0.130222</td>\n",
              "      <td>0.050580</td>\n",
              "      <td>-0.028372</td>\n",
              "      <td>0.054422</td>\n",
              "      <td>0.000000</td>\n",
              "      <td>0.010480</td>\n",
              "    </tr>\n",
              "    <tr>\n",
              "      <th>7</th>\n",
              "      <td>2024-06-30</td>\n",
              "      <td>0.095553</td>\n",
              "      <td>0.035280</td>\n",
              "      <td>0.111186</td>\n",
              "      <td>-0.077419</td>\n",
              "      <td>0.000000</td>\n",
              "      <td>0.033801</td>\n",
              "    </tr>\n",
              "    <tr>\n",
              "      <th>8</th>\n",
              "      <td>2024-07-31</td>\n",
              "      <td>0.054411</td>\n",
              "      <td>0.012109</td>\n",
              "      <td>0.172781</td>\n",
              "      <td>-0.104895</td>\n",
              "      <td>0.002269</td>\n",
              "      <td>-0.137161</td>\n",
              "    </tr>\n",
              "    <tr>\n",
              "      <th>9</th>\n",
              "      <td>2024-08-31</td>\n",
              "      <td>0.032353</td>\n",
              "      <td>0.023366</td>\n",
              "      <td>-0.077390</td>\n",
              "      <td>-0.062500</td>\n",
              "      <td>0.000000</td>\n",
              "      <td>0.050305</td>\n",
              "    </tr>\n",
              "    <tr>\n",
              "      <th>10</th>\n",
              "      <td>2024-09-30</td>\n",
              "      <td>0.017467</td>\n",
              "      <td>0.021005</td>\n",
              "      <td>0.221942</td>\n",
              "      <td>-0.016667</td>\n",
              "      <td>0.001509</td>\n",
              "      <td>-0.056300</td>\n",
              "    </tr>\n",
              "    <tr>\n",
              "      <th>11</th>\n",
              "      <td>2024-10-31</td>\n",
              "      <td>-0.030429</td>\n",
              "      <td>-0.008924</td>\n",
              "      <td>-0.045025</td>\n",
              "      <td>0.177966</td>\n",
              "      <td>0.000000</td>\n",
              "      <td>-0.025568</td>\n",
              "    </tr>\n",
              "    <tr>\n",
              "      <th>12</th>\n",
              "      <td>2024-11-30</td>\n",
              "      <td>0.051707</td>\n",
              "      <td>0.059633</td>\n",
              "      <td>0.381469</td>\n",
              "      <td>1.251799</td>\n",
              "      <td>0.051243</td>\n",
              "      <td>0.096329</td>\n",
              "    </tr>\n",
              "    <tr>\n",
              "      <th>13</th>\n",
              "      <td>2024-12-31</td>\n",
              "      <td>0.055155</td>\n",
              "      <td>-0.024060</td>\n",
              "      <td>0.170008</td>\n",
              "      <td>0.047923</td>\n",
              "      <td>0.121147</td>\n",
              "      <td>-0.110512</td>\n",
              "    </tr>\n",
              "    <tr>\n",
              "      <th>14</th>\n",
              "      <td>2025-01-31</td>\n",
              "      <td>-0.057583</td>\n",
              "      <td>0.026856</td>\n",
              "      <td>0.001882</td>\n",
              "      <td>0.673780</td>\n",
              "      <td>0.093350</td>\n",
              "      <td>0.018182</td>\n",
              "    </tr>\n",
              "    <tr>\n",
              "      <th>15</th>\n",
              "      <td>2025-02-28</td>\n",
              "      <td>0.025872</td>\n",
              "      <td>-0.012695</td>\n",
              "      <td>-0.275877</td>\n",
              "      <td>0.165756</td>\n",
              "      <td>10.125146</td>\n",
              "      <td>-0.021618</td>\n",
              "    </tr>\n",
              "    <tr>\n",
              "      <th>16</th>\n",
              "      <td>2025-03-31</td>\n",
              "      <td>-0.081500</td>\n",
              "      <td>-0.055719</td>\n",
              "      <td>-0.115435</td>\n",
              "      <td>-0.012500</td>\n",
              "      <td>0.019764</td>\n",
              "      <td>0.050262</td>\n",
              "    </tr>\n",
              "    <tr>\n",
              "      <th>17</th>\n",
              "      <td>2025-04-30</td>\n",
              "      <td>-0.043353</td>\n",
              "      <td>-0.008670</td>\n",
              "      <td>0.088748</td>\n",
              "      <td>-0.001582</td>\n",
              "      <td>0.000000</td>\n",
              "      <td>-0.001994</td>\n",
              "    </tr>\n",
              "    <tr>\n",
              "      <th>18</th>\n",
              "      <td>2025-05-31</td>\n",
              "      <td>-0.053584</td>\n",
              "      <td>0.062845</td>\n",
              "      <td>0.227885</td>\n",
              "      <td>0.668780</td>\n",
              "      <td>0.000000</td>\n",
              "      <td>0.052094</td>\n",
              "    </tr>\n",
              "    <tr>\n",
              "      <th>19</th>\n",
              "      <td>2025-06-30</td>\n",
              "      <td>0.021509</td>\n",
              "      <td>0.051386</td>\n",
              "      <td>-0.083126</td>\n",
              "      <td>-0.094017</td>\n",
              "      <td>-0.103093</td>\n",
              "      <td>0.045279</td>\n",
              "    </tr>\n",
              "    <tr>\n",
              "      <th>20</th>\n",
              "      <td>2025-07-31</td>\n",
              "      <td>0.011698</td>\n",
              "      <td>0.023032</td>\n",
              "      <td>-0.029560</td>\n",
              "      <td>-0.159329</td>\n",
              "      <td>0.000000</td>\n",
              "      <td>0.020276</td>\n",
              "    </tr>\n",
              "    <tr>\n",
              "      <th>21</th>\n",
              "      <td>2025-08-31</td>\n",
              "      <td>0.119639</td>\n",
              "      <td>0.020520</td>\n",
              "      <td>0.083044</td>\n",
              "      <td>0.407731</td>\n",
              "      <td>0.000000</td>\n",
              "      <td>0.077512</td>\n",
              "    </tr>\n",
              "    <tr>\n",
              "      <th>22</th>\n",
              "      <td>2025-09-30</td>\n",
              "      <td>0.027268</td>\n",
              "      <td>-0.002031</td>\n",
              "      <td>0.000659</td>\n",
              "      <td>0.058459</td>\n",
              "      <td>0.000000</td>\n",
              "      <td>-0.012744</td>\n",
              "    </tr>\n",
              "  </tbody>\n",
              "</table>\n",
              "</div>"
            ],
            "text/plain": [
              "          date      AAPL       SPY      TSLA      FNMA   FIGR.PVT         F\n",
              "0   2023-11-30  0.113780  0.091344  0.195379 -0.013333   0.000000  0.052308\n",
              "1   2023-12-31  0.013582  0.045655  0.034988  0.445946   0.000000  0.188109\n",
              "2   2024-01-31 -0.042227  0.015926 -0.246257  0.177570   0.000000 -0.038556\n",
              "3   2024-02-29 -0.018543  0.052187  0.077901  0.007937   3.406667  0.090074\n",
              "4   2024-03-31 -0.051286  0.032702 -0.129235  0.236221   0.000000  0.067524\n",
              "5   2024-04-30 -0.006706 -0.040319  0.042608 -0.063694   0.000000 -0.085090\n",
              "6   2024-05-31  0.130222  0.050580 -0.028372  0.054422   0.000000  0.010480\n",
              "7   2024-06-30  0.095553  0.035280  0.111186 -0.077419   0.000000  0.033801\n",
              "8   2024-07-31  0.054411  0.012109  0.172781 -0.104895   0.002269 -0.137161\n",
              "9   2024-08-31  0.032353  0.023366 -0.077390 -0.062500   0.000000  0.050305\n",
              "10  2024-09-30  0.017467  0.021005  0.221942 -0.016667   0.001509 -0.056300\n",
              "11  2024-10-31 -0.030429 -0.008924 -0.045025  0.177966   0.000000 -0.025568\n",
              "12  2024-11-30  0.051707  0.059633  0.381469  1.251799   0.051243  0.096329\n",
              "13  2024-12-31  0.055155 -0.024060  0.170008  0.047923   0.121147 -0.110512\n",
              "14  2025-01-31 -0.057583  0.026856  0.001882  0.673780   0.093350  0.018182\n",
              "15  2025-02-28  0.025872 -0.012695 -0.275877  0.165756  10.125146 -0.021618\n",
              "16  2025-03-31 -0.081500 -0.055719 -0.115435 -0.012500   0.019764  0.050262\n",
              "17  2025-04-30 -0.043353 -0.008670  0.088748 -0.001582   0.000000 -0.001994\n",
              "18  2025-05-31 -0.053584  0.062845  0.227885  0.668780   0.000000  0.052094\n",
              "19  2025-06-30  0.021509  0.051386 -0.083126 -0.094017  -0.103093  0.045279\n",
              "20  2025-07-31  0.011698  0.023032 -0.029560 -0.159329   0.000000  0.020276\n",
              "21  2025-08-31  0.119639  0.020520  0.083044  0.407731   0.000000  0.077512\n",
              "22  2025-09-30  0.027268 -0.002031  0.000659  0.058459   0.000000 -0.012744"
            ]
          },
          "execution_count": 3,
          "metadata": {},
          "output_type": "execute_result"
        }
      ],
      "source": [
        "# YOUR CHANGES HERE\n",
        "\n",
        "historical_returns = historical_prices.pct_change().dropna().reset_index().rename(columns={'Date': 'date'})\n",
        "historical_returns"
      ]
    },
    {
      "cell_type": "markdown",
      "metadata": {
        "id": "OjhEYCWOrIu3"
      },
      "source": [
        "Save the data as a TSV file named \"historical_returns.tsv\" and include a header row with the column names \"date\" and the 6 stock ticker symbols.\n",
        "Each row should have the date at the end of the month and the corresponding *relative* price changes.\n",
        "For example, if the previous price was \\$100 and the new price is \\$110, the return value should be 0.10.\n",
        "There should only be 23 rows of data in this file, since they are computed as the differences of 24 prices."
      ]
    },
    {
      "cell_type": "code",
      "execution_count": 4,
      "metadata": {
        "id": "cN-7q9QvvyKG"
      },
      "outputs": [],
      "source": [
        "# YOUR CHANGES HERE\n",
        "# historical_returns_tsv = historical_returns.reset_index().rename(columns={'Date': 'date'})\n",
        "historical_returns.to_csv('historical_returns.tsv', sep=\"\\t\", index=False)"
      ]
    },
    {
      "cell_type": "markdown",
      "metadata": {
        "id": "vyBtnCTUtfRq"
      },
      "source": [
        "Submit \"historical_returns.tsv\" in Gradescope."
      ]
    },
    {
      "cell_type": "markdown",
      "metadata": {
        "id": "MoCkf4ouV9IA"
      },
      "source": [
        "## Part 3: Estimate Returns\n",
        "\n",
        "Estimate the expected returns for each asset using the previously calculated return data.\n",
        "Just compute the average (mean) return for each asset over your data set; do not use other estimators that have been mentioned.\n",
        "This will serve as your estimate of expected return for each asset."
      ]
    },
    {
      "cell_type": "code",
      "execution_count": 5,
      "metadata": {},
      "outputs": [
        {
          "data": {
            "text/plain": [
              "Index(['date', 'AAPL', 'SPY', 'TSLA', 'FNMA', 'FIGR.PVT', 'F'], dtype='object')"
            ]
          },
          "execution_count": 5,
          "metadata": {},
          "output_type": "execute_result"
        }
      ],
      "source": [
        "historical_returns.columns"
      ]
    },
    {
      "cell_type": "code",
      "execution_count": 6,
      "metadata": {
        "id": "N2iDEhSRxd2n"
      },
      "outputs": [
        {
          "data": {
            "text/html": [
              "<div>\n",
              "<style scoped>\n",
              "    .dataframe tbody tr th:only-of-type {\n",
              "        vertical-align: middle;\n",
              "    }\n",
              "\n",
              "    .dataframe tbody tr th {\n",
              "        vertical-align: top;\n",
              "    }\n",
              "\n",
              "    .dataframe thead th {\n",
              "        text-align: right;\n",
              "    }\n",
              "</style>\n",
              "<table border=\"1\" class=\"dataframe\">\n",
              "  <thead>\n",
              "    <tr style=\"text-align: right;\">\n",
              "      <th></th>\n",
              "      <th>asset</th>\n",
              "      <th>estimated_return</th>\n",
              "    </tr>\n",
              "  </thead>\n",
              "  <tbody>\n",
              "    <tr>\n",
              "      <th>0</th>\n",
              "      <td>AAPL</td>\n",
              "      <td>0.016739</td>\n",
              "    </tr>\n",
              "    <tr>\n",
              "      <th>1</th>\n",
              "      <td>SPY</td>\n",
              "      <td>0.020522</td>\n",
              "    </tr>\n",
              "    <tr>\n",
              "      <th>2</th>\n",
              "      <td>TSLA</td>\n",
              "      <td>0.033922</td>\n",
              "    </tr>\n",
              "    <tr>\n",
              "      <th>3</th>\n",
              "      <td>FNMA</td>\n",
              "      <td>0.163841</td>\n",
              "    </tr>\n",
              "    <tr>\n",
              "      <th>4</th>\n",
              "      <td>FIGR.PVT</td>\n",
              "      <td>0.596435</td>\n",
              "    </tr>\n",
              "    <tr>\n",
              "      <th>5</th>\n",
              "      <td>F</td>\n",
              "      <td>0.015782</td>\n",
              "    </tr>\n",
              "  </tbody>\n",
              "</table>\n",
              "</div>"
            ],
            "text/plain": [
              "      asset  estimated_return\n",
              "0      AAPL          0.016739\n",
              "1       SPY          0.020522\n",
              "2      TSLA          0.033922\n",
              "3      FNMA          0.163841\n",
              "4  FIGR.PVT          0.596435\n",
              "5         F          0.015782"
            ]
          },
          "execution_count": 6,
          "metadata": {},
          "output_type": "execute_result"
        }
      ],
      "source": [
        "# YOUR CHANGES HERE\n",
        "\n",
        "# estimated_returns = pd.DataFrame({'asset': historical_returns.columns, 'estimated_return': historical_returns.mean()})\n",
        "estimated_returns = historical_returns.drop('date', axis=1).mean().reset_index().rename(columns={'index': 'asset', 0: 'estimated_return'})\n",
        "# estimated_returns = estimated_returns.reset_index(drop=True)\n",
        "estimated_returns"
      ]
    },
    {
      "cell_type": "markdown",
      "metadata": {
        "id": "e5YTEwoarM2M"
      },
      "source": [
        "Save the estimated returns in a TSV file named \"estimated_returns.tsv\" and include a header row with the column names \"asset\" and \"estimated_return\"."
      ]
    },
    {
      "cell_type": "code",
      "execution_count": 7,
      "metadata": {
        "id": "At71YDpwvwUw"
      },
      "outputs": [],
      "source": [
        "# YOUR CHANGES HERE\n",
        "\n",
        "estimated_returns.to_csv(\"estimated_returns.tsv\", sep=\"\\t\", index=False)"
      ]
    },
    {
      "cell_type": "markdown",
      "metadata": {
        "id": "cjfnF-2Wtj6r"
      },
      "source": [
        "Submit \"estimated_returns.tsv\" in Gradescope."
      ]
    },
    {
      "cell_type": "markdown",
      "metadata": {
        "id": "VTuIqrkAWXVL"
      },
      "source": [
        "## Part 4: Estimate Risk\n",
        "\n",
        "Estimate the covariance matrix for the asset returns to understand how the assets move together."
      ]
    },
    {
      "cell_type": "code",
      "execution_count": 8,
      "metadata": {
        "id": "RFZfIkTMxcv7"
      },
      "outputs": [
        {
          "data": {
            "text/html": [
              "<div>\n",
              "<style scoped>\n",
              "    .dataframe tbody tr th:only-of-type {\n",
              "        vertical-align: middle;\n",
              "    }\n",
              "\n",
              "    .dataframe tbody tr th {\n",
              "        vertical-align: top;\n",
              "    }\n",
              "\n",
              "    .dataframe thead th {\n",
              "        text-align: right;\n",
              "    }\n",
              "</style>\n",
              "<table border=\"1\" class=\"dataframe\">\n",
              "  <thead>\n",
              "    <tr style=\"text-align: right;\">\n",
              "      <th></th>\n",
              "      <th>AAPL</th>\n",
              "      <th>SPY</th>\n",
              "      <th>TSLA</th>\n",
              "      <th>FNMA</th>\n",
              "      <th>FIGR.PVT</th>\n",
              "      <th>F</th>\n",
              "    </tr>\n",
              "  </thead>\n",
              "  <tbody>\n",
              "    <tr>\n",
              "      <th>AAPL</th>\n",
              "      <td>0.003617</td>\n",
              "      <td>0.000786</td>\n",
              "      <td>0.003047</td>\n",
              "      <td>-0.002137</td>\n",
              "      <td>-0.001389</td>\n",
              "      <td>-0.000061</td>\n",
              "    </tr>\n",
              "    <tr>\n",
              "      <th>SPY</th>\n",
              "      <td>0.000786</td>\n",
              "      <td>0.001235</td>\n",
              "      <td>0.002019</td>\n",
              "      <td>0.003758</td>\n",
              "      <td>-0.010726</td>\n",
              "      <td>0.001363</td>\n",
              "    </tr>\n",
              "    <tr>\n",
              "      <th>TSLA</th>\n",
              "      <td>0.003047</td>\n",
              "      <td>0.002019</td>\n",
              "      <td>0.024400</td>\n",
              "      <td>0.018864</td>\n",
              "      <td>-0.133906</td>\n",
              "      <td>0.000231</td>\n",
              "    </tr>\n",
              "    <tr>\n",
              "      <th>FNMA</th>\n",
              "      <td>-0.002137</td>\n",
              "      <td>0.003758</td>\n",
              "      <td>0.018864</td>\n",
              "      <td>0.110498</td>\n",
              "      <td>-0.018191</td>\n",
              "      <td>0.010276</td>\n",
              "    </tr>\n",
              "    <tr>\n",
              "      <th>FIGR.PVT</th>\n",
              "      <td>-0.001389</td>\n",
              "      <td>-0.010726</td>\n",
              "      <td>-0.133906</td>\n",
              "      <td>-0.018191</td>\n",
              "      <td>4.817232</td>\n",
              "      <td>-0.006334</td>\n",
              "    </tr>\n",
              "    <tr>\n",
              "      <th>F</th>\n",
              "      <td>-0.000061</td>\n",
              "      <td>0.001363</td>\n",
              "      <td>0.000231</td>\n",
              "      <td>0.010276</td>\n",
              "      <td>-0.006334</td>\n",
              "      <td>0.005290</td>\n",
              "    </tr>\n",
              "  </tbody>\n",
              "</table>\n",
              "</div>"
            ],
            "text/plain": [
              "              AAPL       SPY      TSLA      FNMA  FIGR.PVT         F\n",
              "AAPL      0.003617  0.000786  0.003047 -0.002137 -0.001389 -0.000061\n",
              "SPY       0.000786  0.001235  0.002019  0.003758 -0.010726  0.001363\n",
              "TSLA      0.003047  0.002019  0.024400  0.018864 -0.133906  0.000231\n",
              "FNMA     -0.002137  0.003758  0.018864  0.110498 -0.018191  0.010276\n",
              "FIGR.PVT -0.001389 -0.010726 -0.133906 -0.018191  4.817232 -0.006334\n",
              "F        -0.000061  0.001363  0.000231  0.010276 -0.006334  0.005290"
            ]
          },
          "execution_count": 8,
          "metadata": {},
          "output_type": "execute_result"
        }
      ],
      "source": [
        "# YOUR CHANGES HERE\n",
        "\n",
        "estimated_covariance = historical_returns.drop('date', axis=1).cov()\n",
        "estimated_covariance"
      ]
    },
    {
      "cell_type": "markdown",
      "metadata": {
        "id": "sOmn4s_yr5qn"
      },
      "source": [
        "Save the estimated covariances to a TSV file named \"estimated_covariance.tsv\".\n",
        "The header row should have a blank column name followed by the names of the assets.\n",
        "Each data row should start with the name of an asset for that row, and be followed by the individual covariances corresponding to that row and column's assets.\n",
        "(This is the format of pandas's `to_csv` method with `sep=\"\\t\"` when used on a covariance matrix as computed in the examples.)"
      ]
    },
    {
      "cell_type": "code",
      "execution_count": 9,
      "metadata": {
        "id": "Te-NPQxSvuXm"
      },
      "outputs": [],
      "source": [
        "# YOUR CHANGES HERE\n",
        "\n",
        "estimated_covariance.to_csv(\"estimated_covariance.tsv\", sep=\"\\t\")"
      ]
    },
    {
      "cell_type": "markdown",
      "metadata": {
        "id": "lS9vek0btoK6"
      },
      "source": [
        "Submit \"estimated_covariance.tsv\" in Gradescope."
      ]
    },
    {
      "cell_type": "markdown",
      "metadata": {
        "id": "C8rC5Eo3sEme"
      },
      "source": [
        "## Part 5: Construct the Maximum Return Portfolio\n",
        "\n",
        "Compute the maximum return portfolio based on your previously estimated risks and returns."
      ]
    },
    {
      "cell_type": "code",
      "execution_count": 10,
      "metadata": {
        "id": "8LW0KKm-xb2I"
      },
      "outputs": [
        {
          "data": {
            "text/html": [
              "<div>\n",
              "<style scoped>\n",
              "    .dataframe tbody tr th:only-of-type {\n",
              "        vertical-align: middle;\n",
              "    }\n",
              "\n",
              "    .dataframe tbody tr th {\n",
              "        vertical-align: top;\n",
              "    }\n",
              "\n",
              "    .dataframe thead th {\n",
              "        text-align: right;\n",
              "    }\n",
              "</style>\n",
              "<table border=\"1\" class=\"dataframe\">\n",
              "  <thead>\n",
              "    <tr style=\"text-align: right;\">\n",
              "      <th></th>\n",
              "      <th>asset</th>\n",
              "      <th>allocation</th>\n",
              "    </tr>\n",
              "  </thead>\n",
              "  <tbody>\n",
              "    <tr>\n",
              "      <th>0</th>\n",
              "      <td>AAPL</td>\n",
              "      <td>-4.038278e-11</td>\n",
              "    </tr>\n",
              "    <tr>\n",
              "      <th>1</th>\n",
              "      <td>SPY</td>\n",
              "      <td>-4.136696e-11</td>\n",
              "    </tr>\n",
              "    <tr>\n",
              "      <th>2</th>\n",
              "      <td>TSLA</td>\n",
              "      <td>-4.507091e-11</td>\n",
              "    </tr>\n",
              "    <tr>\n",
              "      <th>3</th>\n",
              "      <td>FNMA</td>\n",
              "      <td>-1.083087e-10</td>\n",
              "    </tr>\n",
              "    <tr>\n",
              "      <th>4</th>\n",
              "      <td>FIGR.PVT</td>\n",
              "      <td>1.000000e+00</td>\n",
              "    </tr>\n",
              "    <tr>\n",
              "      <th>5</th>\n",
              "      <td>F</td>\n",
              "      <td>-4.013785e-11</td>\n",
              "    </tr>\n",
              "  </tbody>\n",
              "</table>\n",
              "</div>"
            ],
            "text/plain": [
              "      asset    allocation\n",
              "0      AAPL -4.038278e-11\n",
              "1       SPY -4.136696e-11\n",
              "2      TSLA -4.507091e-11\n",
              "3      FNMA -1.083087e-10\n",
              "4  FIGR.PVT  1.000000e+00\n",
              "5         F -4.013785e-11"
            ]
          },
          "execution_count": 10,
          "metadata": {},
          "output_type": "execute_result"
        }
      ],
      "source": [
        "# YOUR CHANGES HERE\n",
        "\n",
        "# Expected returns vector:\n",
        "mu_max = estimated_returns['estimated_return'].to_numpy()\n",
        "assets = estimated_returns['asset'].to_numpy()\n",
        "\n",
        "n_max = len(mu_max)\n",
        "x_max = cp.Variable(n_max)\n",
        "\n",
        "# Maximum return\n",
        "max_objective = cp.Maximize(mu_max @ x_max)\n",
        "max_constraints = [x_max >= 0, cp.sum(x_max) == 1]\n",
        "max_prob = cp.Problem(max_objective, max_constraints)\n",
        "max_prob.solve()\n",
        "\n",
        "# Segment into two columns\n",
        "maximum_return = pd.DataFrame({'asset': estimated_returns['asset'].values, 'allocation': x_max.value})\n",
        "maximum_return"
      ]
    },
    {
      "cell_type": "markdown",
      "metadata": {
        "id": "jjPOxui5sLTD"
      },
      "source": [
        "Save the maximum return portfolio in a TSV file named \"maximum_return.tsv\".\n",
        "The header row should have two columns, \"asset\" and \"allocation\".\n",
        "The allocation values should sum up to one.\n"
      ]
    },
    {
      "cell_type": "code",
      "execution_count": 11,
      "metadata": {
        "id": "xLl_j8z1vtiT"
      },
      "outputs": [],
      "source": [
        "# YOUR CHANGES HERE\n",
        "\n",
        "maximum_return.to_csv(\"maximum_return.tsv\", sep=\"\\t\", index=False)"
      ]
    },
    {
      "cell_type": "markdown",
      "metadata": {
        "id": "4bm3xrxptqJ2"
      },
      "source": [
        "Submit \"maximum_return.tsv\" in Gradescope."
      ]
    },
    {
      "cell_type": "markdown",
      "metadata": {
        "id": "r_QxQ5NpsL-c"
      },
      "source": [
        "## Part 6: Construct the Minimum Risk Portfolio\n",
        "\n",
        "Compute the minimum return portfolio based on your previously estimated risks and returns."
      ]
    },
    {
      "cell_type": "code",
      "execution_count": 12,
      "metadata": {
        "id": "daHSqhv9xbIF"
      },
      "outputs": [
        {
          "data": {
            "text/html": [
              "<div>\n",
              "<style scoped>\n",
              "    .dataframe tbody tr th:only-of-type {\n",
              "        vertical-align: middle;\n",
              "    }\n",
              "\n",
              "    .dataframe tbody tr th {\n",
              "        vertical-align: top;\n",
              "    }\n",
              "\n",
              "    .dataframe thead th {\n",
              "        text-align: right;\n",
              "    }\n",
              "</style>\n",
              "<table border=\"1\" class=\"dataframe\">\n",
              "  <thead>\n",
              "    <tr style=\"text-align: right;\">\n",
              "      <th></th>\n",
              "      <th>asset</th>\n",
              "      <th>allocation</th>\n",
              "    </tr>\n",
              "  </thead>\n",
              "  <tbody>\n",
              "    <tr>\n",
              "      <th>0</th>\n",
              "      <td>AAPL</td>\n",
              "      <td>1.304667e-01</td>\n",
              "    </tr>\n",
              "    <tr>\n",
              "      <th>1</th>\n",
              "      <td>SPY</td>\n",
              "      <td>8.673258e-01</td>\n",
              "    </tr>\n",
              "    <tr>\n",
              "      <th>2</th>\n",
              "      <td>TSLA</td>\n",
              "      <td>1.191498e-21</td>\n",
              "    </tr>\n",
              "    <tr>\n",
              "      <th>3</th>\n",
              "      <td>FNMA</td>\n",
              "      <td>-1.490187e-19</td>\n",
              "    </tr>\n",
              "    <tr>\n",
              "      <th>4</th>\n",
              "      <td>FIGR.PVT</td>\n",
              "      <td>2.207497e-03</td>\n",
              "    </tr>\n",
              "    <tr>\n",
              "      <th>5</th>\n",
              "      <td>F</td>\n",
              "      <td>-5.511425e-20</td>\n",
              "    </tr>\n",
              "  </tbody>\n",
              "</table>\n",
              "</div>"
            ],
            "text/plain": [
              "      asset    allocation\n",
              "0      AAPL  1.304667e-01\n",
              "1       SPY  8.673258e-01\n",
              "2      TSLA  1.191498e-21\n",
              "3      FNMA -1.490187e-19\n",
              "4  FIGR.PVT  2.207497e-03\n",
              "5         F -5.511425e-20"
            ]
          },
          "execution_count": 12,
          "metadata": {},
          "output_type": "execute_result"
        }
      ],
      "source": [
        "# YOUR CHANGES HERE\n",
        "\n",
        "# Expected returns vector:\n",
        "mu_min = estimated_returns['estimated_return'].to_numpy()\n",
        "assets = estimated_returns['asset'].to_numpy()\n",
        "\n",
        "n_min = len(mu_min)\n",
        "x_min = cp.Variable(n_min)\n",
        "\n",
        "# Minimum return\n",
        "min_objective = cp.Minimize(x_min.T @ estimated_covariance.to_numpy() @ x_min)\n",
        "min_constraints = [x_min >= 0, cp.sum(x_min) == 1]\n",
        "min_prob = cp.Problem(min_objective, min_constraints)\n",
        "min_prob.solve()\n",
        "\n",
        "# Segment into two columns\n",
        "minimum_return = pd.DataFrame({'asset': estimated_returns['asset'].values, 'allocation': x_min.value})\n",
        "minimum_return"
      ]
    },
    {
      "cell_type": "markdown",
      "metadata": {
        "id": "wzldkIPxsQor"
      },
      "source": [
        "Save the minimum risk portfolio in a TSV file named \"minimum_risk.tsv\".\n",
        "The header row should have two columns, \"asset\" and \"allocation\".\n",
        "The allocation values should sum up to one.\n"
      ]
    },
    {
      "cell_type": "code",
      "execution_count": 13,
      "metadata": {
        "id": "YRXccAflvrBZ"
      },
      "outputs": [],
      "source": [
        "# YOUR CHANGES HERE\n",
        "\n",
        "minimum_return.to_csv(\"minimum_risk.tsv\", sep=\"\\t\", index=False)"
      ]
    },
    {
      "cell_type": "markdown",
      "metadata": {
        "id": "P5gy_XETtsoi"
      },
      "source": [
        "Submit \"minimum_risk.tsv\" in Gradescope."
      ]
    },
    {
      "cell_type": "markdown",
      "metadata": {
        "id": "mzyJGWDvWhva"
      },
      "source": [
        "## Part 7: Build Efficient Frontier Portfolios\n",
        "\n",
        "Compute 101 portfolios along the mean-variance efficient frontier with evenly spaced estimated returns.\n",
        "The first portfolio should be the minimum risk portfolio from part 4, and the last portfolio should be the maximum return portfolio from part 3.\n",
        "The estimated return of each portfolio should be higher than the previous by one percent of the difference between the first and last portfolios.\n",
        "That is, the estimated return of the portfolios should be similar to `np.linspace(min_risk_return, max_return, 101)`.\n"
      ]
    },
    {
      "cell_type": "code",
      "execution_count": 49,
      "metadata": {},
      "outputs": [
        {
          "data": {
            "text/plain": [
              "Index(['asset', 'estimated_return'], dtype='object')"
            ]
          },
          "execution_count": 49,
          "metadata": {},
          "output_type": "execute_result"
        }
      ],
      "source": [
        "estimated_returns.columns"
      ]
    },
    {
      "cell_type": "code",
      "execution_count": 59,
      "metadata": {
        "id": "XaR6mKwvxZ4W"
      },
      "outputs": [
        {
          "data": {
            "text/html": [
              "<div>\n",
              "<style scoped>\n",
              "    .dataframe tbody tr th:only-of-type {\n",
              "        vertical-align: middle;\n",
              "    }\n",
              "\n",
              "    .dataframe tbody tr th {\n",
              "        vertical-align: top;\n",
              "    }\n",
              "\n",
              "    .dataframe thead th {\n",
              "        text-align: right;\n",
              "    }\n",
              "</style>\n",
              "<table border=\"1\" class=\"dataframe\">\n",
              "  <thead>\n",
              "    <tr style=\"text-align: right;\">\n",
              "      <th></th>\n",
              "      <th>index</th>\n",
              "      <th>return</th>\n",
              "      <th>risk</th>\n",
              "      <th>AAPL</th>\n",
              "      <th>SPY</th>\n",
              "      <th>TSLA</th>\n",
              "      <th>FNMA</th>\n",
              "      <th>FIGR.PVT</th>\n",
              "      <th>F</th>\n",
              "    </tr>\n",
              "  </thead>\n",
              "  <tbody>\n",
              "    <tr>\n",
              "      <th>0</th>\n",
              "      <td>0</td>\n",
              "      <td>0.021300</td>\n",
              "      <td>0.033913</td>\n",
              "      <td>1.304667e-01</td>\n",
              "      <td>8.673258e-01</td>\n",
              "      <td>-3.303285e-20</td>\n",
              "      <td>-2.736599e-19</td>\n",
              "      <td>0.002207</td>\n",
              "      <td>-3.845830e-20</td>\n",
              "    </tr>\n",
              "    <tr>\n",
              "      <th>1</th>\n",
              "      <td>1</td>\n",
              "      <td>0.027051</td>\n",
              "      <td>0.037032</td>\n",
              "      <td>1.257006e-01</td>\n",
              "      <td>8.432861e-01</td>\n",
              "      <td>3.842367e-20</td>\n",
              "      <td>2.509591e-02</td>\n",
              "      <td>0.005917</td>\n",
              "      <td>-6.871355e-20</td>\n",
              "    </tr>\n",
              "    <tr>\n",
              "      <th>2</th>\n",
              "      <td>2</td>\n",
              "      <td>0.032803</td>\n",
              "      <td>0.042965</td>\n",
              "      <td>1.440490e-01</td>\n",
              "      <td>7.920186e-01</td>\n",
              "      <td>3.468758e-20</td>\n",
              "      <td>5.546568e-02</td>\n",
              "      <td>0.008467</td>\n",
              "      <td>-6.203236e-20</td>\n",
              "    </tr>\n",
              "    <tr>\n",
              "      <th>3</th>\n",
              "      <td>3</td>\n",
              "      <td>0.038554</td>\n",
              "      <td>0.050637</td>\n",
              "      <td>1.570868e-01</td>\n",
              "      <td>7.409737e-01</td>\n",
              "      <td>6.269049e-03</td>\n",
              "      <td>8.450381e-02</td>\n",
              "      <td>0.011167</td>\n",
              "      <td>-4.969509e-20</td>\n",
              "    </tr>\n",
              "    <tr>\n",
              "      <th>4</th>\n",
              "      <td>4</td>\n",
              "      <td>0.044305</td>\n",
              "      <td>0.059360</td>\n",
              "      <td>1.674462e-01</td>\n",
              "      <td>6.900410e-01</td>\n",
              "      <td>1.569979e-02</td>\n",
              "      <td>1.128704e-01</td>\n",
              "      <td>0.013943</td>\n",
              "      <td>-4.430193e-20</td>\n",
              "    </tr>\n",
              "    <tr>\n",
              "      <th>...</th>\n",
              "      <td>...</td>\n",
              "      <td>...</td>\n",
              "      <td>...</td>\n",
              "      <td>...</td>\n",
              "      <td>...</td>\n",
              "      <td>...</td>\n",
              "      <td>...</td>\n",
              "      <td>...</td>\n",
              "      <td>...</td>\n",
              "    </tr>\n",
              "    <tr>\n",
              "      <th>96</th>\n",
              "      <td>96</td>\n",
              "      <td>0.573430</td>\n",
              "      <td>2.077733</td>\n",
              "      <td>-4.855346e-22</td>\n",
              "      <td>-8.860657e-22</td>\n",
              "      <td>-2.909790e-22</td>\n",
              "      <td>5.318018e-02</td>\n",
              "      <td>0.946820</td>\n",
              "      <td>-1.356894e-21</td>\n",
              "    </tr>\n",
              "    <tr>\n",
              "      <th>97</th>\n",
              "      <td>97</td>\n",
              "      <td>0.579181</td>\n",
              "      <td>2.106990</td>\n",
              "      <td>-1.817528e-21</td>\n",
              "      <td>-1.748315e-21</td>\n",
              "      <td>-1.406176e-21</td>\n",
              "      <td>3.988513e-02</td>\n",
              "      <td>0.960115</td>\n",
              "      <td>-1.781711e-21</td>\n",
              "    </tr>\n",
              "    <tr>\n",
              "      <th>98</th>\n",
              "      <td>98</td>\n",
              "      <td>0.584932</td>\n",
              "      <td>2.136257</td>\n",
              "      <td>-1.859245e-21</td>\n",
              "      <td>-1.795220e-21</td>\n",
              "      <td>-1.510443e-21</td>\n",
              "      <td>2.659009e-02</td>\n",
              "      <td>0.973410</td>\n",
              "      <td>-1.835065e-21</td>\n",
              "    </tr>\n",
              "    <tr>\n",
              "      <th>99</th>\n",
              "      <td>99</td>\n",
              "      <td>0.590684</td>\n",
              "      <td>2.165534</td>\n",
              "      <td>-4.288454e-23</td>\n",
              "      <td>-4.366576e-22</td>\n",
              "      <td>-2.220005e-22</td>\n",
              "      <td>1.329504e-02</td>\n",
              "      <td>0.986705</td>\n",
              "      <td>-4.576610e-22</td>\n",
              "    </tr>\n",
              "    <tr>\n",
              "      <th>100</th>\n",
              "      <td>100</td>\n",
              "      <td>0.596435</td>\n",
              "      <td>2.194819</td>\n",
              "      <td>-1.037645e-06</td>\n",
              "      <td>9.709716e-08</td>\n",
              "      <td>2.109359e-06</td>\n",
              "      <td>-3.780137e-07</td>\n",
              "      <td>1.000000</td>\n",
              "      <td>-7.998571e-07</td>\n",
              "    </tr>\n",
              "  </tbody>\n",
              "</table>\n",
              "<p>101 rows × 9 columns</p>\n",
              "</div>"
            ],
            "text/plain": [
              "     index    return      risk          AAPL           SPY          TSLA  \\\n",
              "0        0  0.021300  0.033913  1.304667e-01  8.673258e-01 -3.303285e-20   \n",
              "1        1  0.027051  0.037032  1.257006e-01  8.432861e-01  3.842367e-20   \n",
              "2        2  0.032803  0.042965  1.440490e-01  7.920186e-01  3.468758e-20   \n",
              "3        3  0.038554  0.050637  1.570868e-01  7.409737e-01  6.269049e-03   \n",
              "4        4  0.044305  0.059360  1.674462e-01  6.900410e-01  1.569979e-02   \n",
              "..     ...       ...       ...           ...           ...           ...   \n",
              "96      96  0.573430  2.077733 -4.855346e-22 -8.860657e-22 -2.909790e-22   \n",
              "97      97  0.579181  2.106990 -1.817528e-21 -1.748315e-21 -1.406176e-21   \n",
              "98      98  0.584932  2.136257 -1.859245e-21 -1.795220e-21 -1.510443e-21   \n",
              "99      99  0.590684  2.165534 -4.288454e-23 -4.366576e-22 -2.220005e-22   \n",
              "100    100  0.596435  2.194819 -1.037645e-06  9.709716e-08  2.109359e-06   \n",
              "\n",
              "             FNMA  FIGR.PVT             F  \n",
              "0   -2.736599e-19  0.002207 -3.845830e-20  \n",
              "1    2.509591e-02  0.005917 -6.871355e-20  \n",
              "2    5.546568e-02  0.008467 -6.203236e-20  \n",
              "3    8.450381e-02  0.011167 -4.969509e-20  \n",
              "4    1.128704e-01  0.013943 -4.430193e-20  \n",
              "..            ...       ...           ...  \n",
              "96   5.318018e-02  0.946820 -1.356894e-21  \n",
              "97   3.988513e-02  0.960115 -1.781711e-21  \n",
              "98   2.659009e-02  0.973410 -1.835065e-21  \n",
              "99   1.329504e-02  0.986705 -4.576610e-22  \n",
              "100 -3.780137e-07  1.000000 -7.998571e-07  \n",
              "\n",
              "[101 rows x 9 columns]"
            ]
          },
          "execution_count": 59,
          "metadata": {},
          "output_type": "execute_result"
        }
      ],
      "source": [
        "# YOUR CHANGES HERE\n",
        "\n",
        "# Convert the assets to a list\n",
        "ef_assets = estimated_returns['asset'].tolist()\n",
        "\n",
        "# Returns vector\n",
        "returns = estimated_returns['estimated_return'].astype(float).to_numpy()\n",
        "\n",
        "# Align covariance to the proper order\n",
        "sigma = estimated_covariance.loc[ef_assets, ef_assets].to_numpy()\n",
        "\n",
        "n = len(returns)\n",
        "\n",
        "# Scalars for min and max returns\n",
        "estimated_return_minimum_risk = float(x_min.value.T @ returns)\n",
        "estimated_return_maximum_risk = float(returns.max())\n",
        "\n",
        "# efficient frontier\n",
        "ef_variances, ef_returns, ef_portfolios = [], [], []\n",
        "\n",
        "for r in np.linspace(estimated_return_minimum_risk, estimated_return_maximum_risk, 101):\n",
        "    # create variables to optimize\n",
        "    x_r = cp.Variable(n)\n",
        "\n",
        "    # formulate linear program\n",
        "    prob_r = cp.Problem(cp.Minimize(x_r.T @ sigma @ x_r),\n",
        "                        [0 <= x_r,\n",
        "                         cp.sum(x_r) == 1,\n",
        "                         x_r.T @ returns == r])\n",
        "    variance_opt = prob_r.solve()\n",
        "    ef_variances.append(variance_opt)\n",
        "    ef_returns.append(r)\n",
        "    # Force a shape of 6\n",
        "    ef_portfolios.append(np.asarray(x_r.value, dtype=float).ravel())\n",
        "\n",
        "# Calculate the standard deviation using the variance\n",
        "ef_stds = np.sqrt(np.asarray(ef_variances, dtype=float))\n",
        "\n",
        "# Set the weights\n",
        "ef_weights = np.vstack(ef_portfolios)\n",
        "\n",
        "# Setup the efficient frontier\n",
        "efficient_frontier = pd.DataFrame(ef_weights, columns=ef_assets)\n",
        "efficient_frontier.insert(0, \"risk\", ef_stds)\n",
        "efficient_frontier.insert(0, \"return\", np.asarray(ef_returns, dtype=float))\n",
        "efficient_frontier.insert(0, \"index\", np.arange(len(ef_returns), dtype=int))\n",
        "\n",
        "efficient_frontier = efficient_frontier[['index', 'return', 'risk'] + ef_assets]\n",
        "efficient_frontier"
      ]
    },
    {
      "cell_type": "markdown",
      "metadata": {
        "id": "8e3WwTJvsDzh"
      },
      "source": [
        "Save the portfolios in a TSV file named \"efficient_frontier.tsv\".\n",
        "The header row should have columns \"index\", \"return\", \"risk\", and all the asset tickers.\n",
        "Each data row should have the portfolio index (0-100), the estimated return of the portfolio, the estimated standard deviation (not variance) of the portfolio, and all the asset allocations (which should sum to one)."
      ]
    },
    {
      "cell_type": "code",
      "execution_count": 61,
      "metadata": {
        "id": "e9DKadyNvniT"
      },
      "outputs": [],
      "source": [
        "# YOUR CHANGES HERE\n",
        "\n",
        "efficient_frontier.to_csv(\"efficient_frontier.tsv\", sep=\"\\t\", index=False)"
      ]
    },
    {
      "cell_type": "markdown",
      "metadata": {
        "id": "jiOa06rItvbs"
      },
      "source": [
        "Submit \"efficient_frontier.tsv\" in Gradescope."
      ]
    },
    {
      "cell_type": "markdown",
      "metadata": {
        "id": "LoW0XBXAzzR6"
      },
      "source": [
        "## Part 8: Check Maximum Return Portfolio Stability\n",
        "\n",
        "Check the stability of the maximum return portfolio by resampling the estimated risk/return model.\n",
        "\n",
        "Repeat 1000 times -\n",
        "1. Use `np.random.multivariate_normal` to generate 23 return samples using your previously estimated risks and returns.\n",
        "2. Estimate the return of each asset using that resampled return history.\n",
        "3. Check which asset had the highest return in those resampled estimates.\n",
        "\n",
        "This procedure is a reduced and simplified version of the Michaud resampled efficient frontier procedure that takes uncertainty in the risk model into account."
      ]
    },
    {
      "cell_type": "code",
      "execution_count": 46,
      "metadata": {
        "id": "Xfke5V57xYvT"
      },
      "outputs": [
        {
          "data": {
            "text/plain": [
              "Ellipsis"
            ]
          },
          "execution_count": 46,
          "metadata": {},
          "output_type": "execute_result"
        }
      ],
      "source": [
        "# YOUR CHANGES HERE\n",
        "\n",
        "..."
      ]
    },
    {
      "cell_type": "markdown",
      "metadata": {
        "id": "fes_ScDyz0jp"
      },
      "source": [
        "Save a file \"max_return_probabilities.tsv\" with the distribution of highest return assets.\n",
        "The header row should have columns \"asset\" and \"probability\".\n",
        "There should be a data row for each asset and its sample probability of having the highest return based on those 1000 resampled estimates.\n"
      ]
    },
    {
      "cell_type": "code",
      "execution_count": 47,
      "metadata": {
        "id": "ZAjr15ASvj1S"
      },
      "outputs": [
        {
          "data": {
            "text/plain": [
              "Ellipsis"
            ]
          },
          "execution_count": 47,
          "metadata": {},
          "output_type": "execute_result"
        }
      ],
      "source": [
        "# YOUR CHANGES HERE\n",
        "\n",
        "..."
      ]
    },
    {
      "cell_type": "markdown",
      "metadata": {
        "id": "2Xd34FQ6txoj"
      },
      "source": [
        "Submit \"max_return_probabilities.tsv\" in Gradescope."
      ]
    },
    {
      "cell_type": "markdown",
      "metadata": {
        "id": "SYbJ21qUYvL_"
      },
      "source": [
        "## Part 9: Acknowledgments\n",
        "\n",
        "Make a file \"acknowledgments.txt\" documenting any outside sources or help on this project.\n",
        "If you discussed this assignment with anyone, please acknowledge them here.\n",
        "If you used any libraries not mentioned in this module's content, please list them with a brief explanation what you used them for.\n",
        "If you used any generative AI tools, please add links to your transcripts below, and any other information that you feel is necessary to comply with the generative AI policy.\n",
        "If no acknowledgements are appropriate, just write none in the file.\n"
      ]
    },
    {
      "cell_type": "markdown",
      "metadata": {
        "id": "H3oWYYHlt42V"
      },
      "source": [
        "Submit \"acknowledgements.txt\" in Gradescope."
      ]
    },
    {
      "cell_type": "markdown",
      "metadata": {
        "id": "b8FWiTjvwscA"
      },
      "source": [
        "## Part 10: Code\n",
        "\n",
        "Please submit a Jupyter notebook that can reproduce all your calculations and recreate the previously submitted files.\n",
        "You do not need to provide code for data collection if you did that by manually."
      ]
    },
    {
      "cell_type": "markdown",
      "metadata": {
        "id": "HDEYI-K8vcUW"
      },
      "source": [
        "Submit \"project.ipynb\" in Gradescope."
      ]
    }
  ],
  "metadata": {
    "colab": {
      "toc_visible": false
    },
    "kernelspec": {
      "display_name": "Python 3",
      "name": "python3"
    },
    "language_info": {
      "codemirror_mode": {
        "name": "ipython",
        "version": 3
      },
      "file_extension": ".py",
      "mimetype": "text/x-python",
      "name": "python",
      "nbconvert_exporter": "python",
      "pygments_lexer": "ipython3",
      "version": "3.12.1"
    }
  },
  "nbformat": 4,
  "nbformat_minor": 0
}
